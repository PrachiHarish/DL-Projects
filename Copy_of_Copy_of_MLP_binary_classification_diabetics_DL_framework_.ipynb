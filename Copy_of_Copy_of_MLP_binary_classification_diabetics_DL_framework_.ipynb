{
  "nbformat": 4,
  "nbformat_minor": 0,
  "metadata": {
    "colab": {
      "provenance": [],
      "include_colab_link": true
    },
    "kernelspec": {
      "name": "python3",
      "display_name": "Python 3"
    },
    "language_info": {
      "name": "python"
    }
  },
  "cells": [
    {
      "cell_type": "markdown",
      "metadata": {
        "id": "view-in-github",
        "colab_type": "text"
      },
      "source": [
        "<a href=\"https://colab.research.google.com/github/PrachiHarish/DL-Projects/blob/main/Copy_of_Copy_of_MLP_binary_classification_diabetics_DL_framework_.ipynb\" target=\"_parent\"><img src=\"https://colab.research.google.com/assets/colab-badge.svg\" alt=\"Open In Colab\"/></a>"
      ]
    },
    {
      "cell_type": "code",
      "execution_count": null,
      "metadata": {
        "id": "W-05lG-kar6j"
      },
      "outputs": [],
      "source": [
        "import tensorflow as tf\n",
        "from tensorflow.keras.models import Model,load_model,Sequential\n",
        "from tensorflow.keras.layers import*\n",
        "from tensorflow.keras import backend as K\n",
        "from tensorflow.keras.optimizers import SGD\n",
        "from tensorflow.keras.utils import to_categorical\n",
        "from tensorflow.keras.datasets import mnist\n",
        "\n",
        "import matplotlib.pyplot as plt\n",
        "import numpy as np"
      ]
    },
    {
      "cell_type": "code",
      "source": [
        "import pandas as pd\n",
        "path=\"/content/drive/MyDrive/Dataset/diabetes.csv\"\n",
        "dataset=pd.read_csv(path)\n",
        "dataset.head()"
      ],
      "metadata": {
        "colab": {
          "base_uri": "https://localhost:8080/",
          "height": 206
        },
        "id": "p89yMtnNa30P",
        "outputId": "bfbe45cb-e3c8-45bb-d101-64830ca4d2da"
      },
      "execution_count": null,
      "outputs": [
        {
          "output_type": "execute_result",
          "data": {
            "text/plain": [
              "   Pregnancies  Glucose  BloodPressure  SkinThickness  Insulin   BMI  \\\n",
              "0            6      148             72             35        0  33.6   \n",
              "1            1       85             66             29        0  26.6   \n",
              "2            8      183             64              0        0  23.3   \n",
              "3            1       89             66             23       94  28.1   \n",
              "4            0      137             40             35      168  43.1   \n",
              "\n",
              "   DiabetesPedigreeFunction  Age  Outcome  \n",
              "0                     0.627   50        1  \n",
              "1                     0.351   31        0  \n",
              "2                     0.672   32        1  \n",
              "3                     0.167   21        0  \n",
              "4                     2.288   33        1  "
            ],
            "text/html": [
              "\n",
              "  <div id=\"df-ac23e497-eb7b-4994-b767-6e5679fa76fe\">\n",
              "    <div class=\"colab-df-container\">\n",
              "      <div>\n",
              "<style scoped>\n",
              "    .dataframe tbody tr th:only-of-type {\n",
              "        vertical-align: middle;\n",
              "    }\n",
              "\n",
              "    .dataframe tbody tr th {\n",
              "        vertical-align: top;\n",
              "    }\n",
              "\n",
              "    .dataframe thead th {\n",
              "        text-align: right;\n",
              "    }\n",
              "</style>\n",
              "<table border=\"1\" class=\"dataframe\">\n",
              "  <thead>\n",
              "    <tr style=\"text-align: right;\">\n",
              "      <th></th>\n",
              "      <th>Pregnancies</th>\n",
              "      <th>Glucose</th>\n",
              "      <th>BloodPressure</th>\n",
              "      <th>SkinThickness</th>\n",
              "      <th>Insulin</th>\n",
              "      <th>BMI</th>\n",
              "      <th>DiabetesPedigreeFunction</th>\n",
              "      <th>Age</th>\n",
              "      <th>Outcome</th>\n",
              "    </tr>\n",
              "  </thead>\n",
              "  <tbody>\n",
              "    <tr>\n",
              "      <th>0</th>\n",
              "      <td>6</td>\n",
              "      <td>148</td>\n",
              "      <td>72</td>\n",
              "      <td>35</td>\n",
              "      <td>0</td>\n",
              "      <td>33.6</td>\n",
              "      <td>0.627</td>\n",
              "      <td>50</td>\n",
              "      <td>1</td>\n",
              "    </tr>\n",
              "    <tr>\n",
              "      <th>1</th>\n",
              "      <td>1</td>\n",
              "      <td>85</td>\n",
              "      <td>66</td>\n",
              "      <td>29</td>\n",
              "      <td>0</td>\n",
              "      <td>26.6</td>\n",
              "      <td>0.351</td>\n",
              "      <td>31</td>\n",
              "      <td>0</td>\n",
              "    </tr>\n",
              "    <tr>\n",
              "      <th>2</th>\n",
              "      <td>8</td>\n",
              "      <td>183</td>\n",
              "      <td>64</td>\n",
              "      <td>0</td>\n",
              "      <td>0</td>\n",
              "      <td>23.3</td>\n",
              "      <td>0.672</td>\n",
              "      <td>32</td>\n",
              "      <td>1</td>\n",
              "    </tr>\n",
              "    <tr>\n",
              "      <th>3</th>\n",
              "      <td>1</td>\n",
              "      <td>89</td>\n",
              "      <td>66</td>\n",
              "      <td>23</td>\n",
              "      <td>94</td>\n",
              "      <td>28.1</td>\n",
              "      <td>0.167</td>\n",
              "      <td>21</td>\n",
              "      <td>0</td>\n",
              "    </tr>\n",
              "    <tr>\n",
              "      <th>4</th>\n",
              "      <td>0</td>\n",
              "      <td>137</td>\n",
              "      <td>40</td>\n",
              "      <td>35</td>\n",
              "      <td>168</td>\n",
              "      <td>43.1</td>\n",
              "      <td>2.288</td>\n",
              "      <td>33</td>\n",
              "      <td>1</td>\n",
              "    </tr>\n",
              "  </tbody>\n",
              "</table>\n",
              "</div>\n",
              "      <button class=\"colab-df-convert\" onclick=\"convertToInteractive('df-ac23e497-eb7b-4994-b767-6e5679fa76fe')\"\n",
              "              title=\"Convert this dataframe to an interactive table.\"\n",
              "              style=\"display:none;\">\n",
              "        \n",
              "  <svg xmlns=\"http://www.w3.org/2000/svg\" height=\"24px\"viewBox=\"0 0 24 24\"\n",
              "       width=\"24px\">\n",
              "    <path d=\"M0 0h24v24H0V0z\" fill=\"none\"/>\n",
              "    <path d=\"M18.56 5.44l.94 2.06.94-2.06 2.06-.94-2.06-.94-.94-2.06-.94 2.06-2.06.94zm-11 1L8.5 8.5l.94-2.06 2.06-.94-2.06-.94L8.5 2.5l-.94 2.06-2.06.94zm10 10l.94 2.06.94-2.06 2.06-.94-2.06-.94-.94-2.06-.94 2.06-2.06.94z\"/><path d=\"M17.41 7.96l-1.37-1.37c-.4-.4-.92-.59-1.43-.59-.52 0-1.04.2-1.43.59L10.3 9.45l-7.72 7.72c-.78.78-.78 2.05 0 2.83L4 21.41c.39.39.9.59 1.41.59.51 0 1.02-.2 1.41-.59l7.78-7.78 2.81-2.81c.8-.78.8-2.07 0-2.86zM5.41 20L4 18.59l7.72-7.72 1.47 1.35L5.41 20z\"/>\n",
              "  </svg>\n",
              "      </button>\n",
              "      \n",
              "  <style>\n",
              "    .colab-df-container {\n",
              "      display:flex;\n",
              "      flex-wrap:wrap;\n",
              "      gap: 12px;\n",
              "    }\n",
              "\n",
              "    .colab-df-convert {\n",
              "      background-color: #E8F0FE;\n",
              "      border: none;\n",
              "      border-radius: 50%;\n",
              "      cursor: pointer;\n",
              "      display: none;\n",
              "      fill: #1967D2;\n",
              "      height: 32px;\n",
              "      padding: 0 0 0 0;\n",
              "      width: 32px;\n",
              "    }\n",
              "\n",
              "    .colab-df-convert:hover {\n",
              "      background-color: #E2EBFA;\n",
              "      box-shadow: 0px 1px 2px rgba(60, 64, 67, 0.3), 0px 1px 3px 1px rgba(60, 64, 67, 0.15);\n",
              "      fill: #174EA6;\n",
              "    }\n",
              "\n",
              "    [theme=dark] .colab-df-convert {\n",
              "      background-color: #3B4455;\n",
              "      fill: #D2E3FC;\n",
              "    }\n",
              "\n",
              "    [theme=dark] .colab-df-convert:hover {\n",
              "      background-color: #434B5C;\n",
              "      box-shadow: 0px 1px 3px 1px rgba(0, 0, 0, 0.15);\n",
              "      filter: drop-shadow(0px 1px 2px rgba(0, 0, 0, 0.3));\n",
              "      fill: #FFFFFF;\n",
              "    }\n",
              "  </style>\n",
              "\n",
              "      <script>\n",
              "        const buttonEl =\n",
              "          document.querySelector('#df-ac23e497-eb7b-4994-b767-6e5679fa76fe button.colab-df-convert');\n",
              "        buttonEl.style.display =\n",
              "          google.colab.kernel.accessAllowed ? 'block' : 'none';\n",
              "\n",
              "        async function convertToInteractive(key) {\n",
              "          const element = document.querySelector('#df-ac23e497-eb7b-4994-b767-6e5679fa76fe');\n",
              "          const dataTable =\n",
              "            await google.colab.kernel.invokeFunction('convertToInteractive',\n",
              "                                                     [key], {});\n",
              "          if (!dataTable) return;\n",
              "\n",
              "          const docLinkHtml = 'Like what you see? Visit the ' +\n",
              "            '<a target=\"_blank\" href=https://colab.research.google.com/notebooks/data_table.ipynb>data table notebook</a>'\n",
              "            + ' to learn more about interactive tables.';\n",
              "          element.innerHTML = '';\n",
              "          dataTable['output_type'] = 'display_data';\n",
              "          await google.colab.output.renderOutput(dataTable, element);\n",
              "          const docLink = document.createElement('div');\n",
              "          docLink.innerHTML = docLinkHtml;\n",
              "          element.appendChild(docLink);\n",
              "        }\n",
              "      </script>\n",
              "    </div>\n",
              "  </div>\n",
              "  "
            ]
          },
          "metadata": {},
          "execution_count": 26
        }
      ]
    },
    {
      "cell_type": "code",
      "source": [
        "dataset.shape"
      ],
      "metadata": {
        "colab": {
          "base_uri": "https://localhost:8080/"
        },
        "id": "Wd2u_lm3bmPn",
        "outputId": "08f65b70-bd08-4ed5-e304-bcf81ab20bcb"
      },
      "execution_count": null,
      "outputs": [
        {
          "output_type": "execute_result",
          "data": {
            "text/plain": [
              "(768, 9)"
            ]
          },
          "metadata": {},
          "execution_count": 27
        }
      ]
    },
    {
      "cell_type": "code",
      "source": [
        "dataset.columns"
      ],
      "metadata": {
        "colab": {
          "base_uri": "https://localhost:8080/"
        },
        "id": "fOuf_O5lbsrL",
        "outputId": "49712d32-d07a-4e9a-b744-54ecdbda53dc"
      },
      "execution_count": null,
      "outputs": [
        {
          "output_type": "execute_result",
          "data": {
            "text/plain": [
              "Index(['Pregnancies', 'Glucose', 'BloodPressure', 'SkinThickness', 'Insulin',\n",
              "       'BMI', 'DiabetesPedigreeFunction', 'Age', 'Outcome'],\n",
              "      dtype='object')"
            ]
          },
          "metadata": {},
          "execution_count": 28
        }
      ]
    },
    {
      "cell_type": "code",
      "source": [
        "dataset.isnull().sum()"
      ],
      "metadata": {
        "colab": {
          "base_uri": "https://localhost:8080/"
        },
        "id": "LqR7PlF1bwSu",
        "outputId": "b47f51eb-7ed3-41e3-849a-9cc2a0e4db58"
      },
      "execution_count": null,
      "outputs": [
        {
          "output_type": "execute_result",
          "data": {
            "text/plain": [
              "Pregnancies                 0\n",
              "Glucose                     0\n",
              "BloodPressure               0\n",
              "SkinThickness               0\n",
              "Insulin                     0\n",
              "BMI                         0\n",
              "DiabetesPedigreeFunction    0\n",
              "Age                         0\n",
              "Outcome                     0\n",
              "dtype: int64"
            ]
          },
          "metadata": {},
          "execution_count": 29
        }
      ]
    },
    {
      "cell_type": "code",
      "source": [
        "import numpy as np\n",
        "x=np.array(dataset.iloc[:,0:8])\n",
        "y=np.array(dataset[[\"Outcome\"]])\n",
        "print(x.shape)\n",
        "print(y.shape)"
      ],
      "metadata": {
        "colab": {
          "base_uri": "https://localhost:8080/"
        },
        "id": "FGO3i_tzb14E",
        "outputId": "eedd029a-c0b5-4ab0-c259-b998892489b9"
      },
      "execution_count": null,
      "outputs": [
        {
          "output_type": "stream",
          "name": "stdout",
          "text": [
            "(768, 8)\n",
            "(768, 1)\n"
          ]
        }
      ]
    },
    {
      "cell_type": "code",
      "source": [
        "# without using in-built lib\n",
        "x_norm=(x-x.mean())/x.std()\n",
        "y_norm=(y-y.mean())/y.std()\n",
        "print(x_norm.shape)\n",
        "print(y_norm.shape)"
      ],
      "metadata": {
        "colab": {
          "base_uri": "https://localhost:8080/"
        },
        "id": "2b0P8pw-b42M",
        "outputId": "7fd4fcde-c313-429f-fde1-8bd89643d69d"
      },
      "execution_count": null,
      "outputs": [
        {
          "output_type": "stream",
          "name": "stdout",
          "text": [
            "(768, 8)\n",
            "(768, 1)\n"
          ]
        }
      ]
    },
    {
      "cell_type": "code",
      "source": [
        "from sklearn.model_selection import train_test_split\n",
        "x_train,x_test,y_train,y_test= train_test_split(x_norm,y_norm,test_size=0.2)\n",
        "print(x_train.shape)\n",
        "print(x_test.shape)\n",
        "print(y_train.shape)\n",
        "print(y_test.shape)"
      ],
      "metadata": {
        "colab": {
          "base_uri": "https://localhost:8080/"
        },
        "id": "qX-s91p-b8a4",
        "outputId": "b323d090-4f87-4365-b8dc-442591f987a2"
      },
      "execution_count": null,
      "outputs": [
        {
          "output_type": "stream",
          "name": "stdout",
          "text": [
            "(614, 8)\n",
            "(154, 8)\n",
            "(614, 1)\n",
            "(154, 1)\n"
          ]
        }
      ]
    },
    {
      "cell_type": "markdown",
      "source": [
        "**Method 1: Sequential**"
      ],
      "metadata": {
        "id": "k3O28Nj8cKAX"
      }
    },
    {
      "cell_type": "code",
      "source": [
        "model_ann1=Sequential()\n",
        "model_ann1.add(Dense(16,input_dim=8,activation=\"tanh\",kernel_initializer=\"he_uniform\",bias_initializer=\"he_uniform\",name=\"Hidden_1\"))\n",
        "model_ann1.add(Dense(32,activation=\"tanh\",kernel_initializer=\"he_uniform\",bias_initializer=\"he_uniform\",name=\"Hidden_2\"))\n",
        "model_ann1.add(Dense(1,activation=\"sigmoid\",kernel_initializer=\"he_uniform\",bias_initializer=\"he_uniform\",name=\"output\"))\n",
        "model_ann1.summary()"
      ],
      "metadata": {
        "colab": {
          "base_uri": "https://localhost:8080/"
        },
        "id": "GSJ2ARt3cQJz",
        "outputId": "2714129e-c646-4590-dbdd-b1d9cf6a7515"
      },
      "execution_count": null,
      "outputs": [
        {
          "output_type": "stream",
          "name": "stdout",
          "text": [
            "Model: \"sequential_6\"\n",
            "_________________________________________________________________\n",
            " Layer (type)                Output Shape              Param #   \n",
            "=================================================================\n",
            " Hidden_1 (Dense)            (None, 16)                144       \n",
            "                                                                 \n",
            " Hidden_2 (Dense)            (None, 32)                544       \n",
            "                                                                 \n",
            " output (Dense)              (None, 1)                 33        \n",
            "                                                                 \n",
            "=================================================================\n",
            "Total params: 721\n",
            "Trainable params: 721\n",
            "Non-trainable params: 0\n",
            "_________________________________________________________________\n"
          ]
        }
      ]
    },
    {
      "cell_type": "markdown",
      "source": [
        "**Method 2: Functional**"
      ],
      "metadata": {
        "id": "-0oayRXBgDgg"
      }
    },
    {
      "cell_type": "code",
      "source": [
        "inp=Input(shape=(8,),name=\"Input\")\n",
        "h1=Dense(16,activation=\"tanh\",kernel_initializer=\"he_uniform\",bias_initializer=\"he_uniform\",name=\"hidden_1\")(inp)\n",
        "h2=Dense(32,activation=\"tanh\",kernel_initializer=\"he_uniform\",bias_initializer=\"he_uniform\",name=\"hidden_2\")(h1)\n",
        "output=Dense(1,activation=\"sigmoid\",kernel_initializer=\"he_uniform\",bias_initializer=\"he_uniform\",name=\"Output\")(h2)\n",
        "model_ann3=Model(inp,output)\n",
        "model_ann3.summary()"
      ],
      "metadata": {
        "colab": {
          "base_uri": "https://localhost:8080/"
        },
        "id": "ew6BV-JogHEL",
        "outputId": "5dcb5c43-21b7-469b-ada3-dc3c9fddc191"
      },
      "execution_count": null,
      "outputs": [
        {
          "output_type": "stream",
          "name": "stdout",
          "text": [
            "Model: \"model_7\"\n",
            "_________________________________________________________________\n",
            " Layer (type)                Output Shape              Param #   \n",
            "=================================================================\n",
            " Input (InputLayer)          [(None, 8)]               0         \n",
            "                                                                 \n",
            " hidden_1 (Dense)            (None, 16)                144       \n",
            "                                                                 \n",
            " hidden_2 (Dense)            (None, 32)                544       \n",
            "                                                                 \n",
            " Output (Dense)              (None, 1)                 33        \n",
            "                                                                 \n",
            "=================================================================\n",
            "Total params: 721\n",
            "Trainable params: 721\n",
            "Non-trainable params: 0\n",
            "_________________________________________________________________\n"
          ]
        }
      ]
    },
    {
      "cell_type": "markdown",
      "source": [
        "**Method 3: Subclass**"
      ],
      "metadata": {
        "id": "teK6qVPsgof-"
      }
    },
    {
      "cell_type": "code",
      "source": [
        "class CustomModel:\n",
        "  def __init__ (self):\n",
        "    self.dense1=Dense(16,activation=\"tanh\",kernel_initializer=\"he_uniform\",bias_initializer=\"he_uniform\",name=\"Hidden_1\")\n",
        "    self.dense2=Dense(32,activation=\"tanh\",kernel_initializer=\"he_uniform\",bias_initializer=\"he_uniform\",name=\"Hidden_2\")\n",
        "    self.output=Dense(1,activation=\"sigmoid\",kernel_initializer=\"he_uniform\",bias_initializer=\"he_uniform\",name=\"Output\")\n",
        "  def call(self,shape):\n",
        "    self.inp=Input(shape,name=\"Input\")\n",
        "    h1=self.dense1(self.inp)\n",
        "    h2=self.dense2(h1)\n",
        "    output=self.output(h2)\n",
        "    model=Model(self.inp,output)\n",
        "    return model\n",
        "m=CustomModel()\n",
        "model_ann3=m.call(shape=(8,))\n",
        "model_ann3.summary()\n"
      ],
      "metadata": {
        "colab": {
          "base_uri": "https://localhost:8080/"
        },
        "id": "pXUrHFt5grbm",
        "outputId": "c04bd590-2f0c-4681-e465-1d50c71d904f"
      },
      "execution_count": null,
      "outputs": [
        {
          "output_type": "stream",
          "name": "stdout",
          "text": [
            "Model: \"model_8\"\n",
            "_________________________________________________________________\n",
            " Layer (type)                Output Shape              Param #   \n",
            "=================================================================\n",
            " Input (InputLayer)          [(None, 8)]               0         \n",
            "                                                                 \n",
            " Hidden_1 (Dense)            (None, 16)                144       \n",
            "                                                                 \n",
            " Hidden_2 (Dense)            (None, 32)                544       \n",
            "                                                                 \n",
            " Output (Dense)              (None, 1)                 33        \n",
            "                                                                 \n",
            "=================================================================\n",
            "Total params: 721\n",
            "Trainable params: 721\n",
            "Non-trainable params: 0\n",
            "_________________________________________________________________\n"
          ]
        }
      ]
    },
    {
      "cell_type": "code",
      "source": [
        "model_ann1.compile(optimizer=\"SGD\",loss=\"binary_crossentropy\",metrics=[\"accuracy\"])\n",
        "history_ann1=model_ann1.fit(x_train,y_train,epochs=10,batch_size=4,validation_data=(x_test,y_test),verbose=1)\n"
      ],
      "metadata": {
        "colab": {
          "base_uri": "https://localhost:8080/"
        },
        "id": "jbVKcbKwhuUf",
        "outputId": "1bb9811a-f1e7-49b8-cfd5-b8a05e881921"
      },
      "execution_count": null,
      "outputs": [
        {
          "output_type": "stream",
          "name": "stdout",
          "text": [
            "Epoch 1/10\n",
            "154/154 [==============================] - 1s 3ms/step - loss: 0.1330 - accuracy: 0.0000e+00 - val_loss: -0.3064 - val_accuracy: 0.0000e+00\n",
            "Epoch 2/10\n",
            "154/154 [==============================] - 0s 2ms/step - loss: -0.5278 - accuracy: 0.0000e+00 - val_loss: -0.9364 - val_accuracy: 0.0000e+00\n",
            "Epoch 3/10\n",
            "154/154 [==============================] - 0s 2ms/step - loss: -1.4668 - accuracy: 0.0000e+00 - val_loss: -2.0364 - val_accuracy: 0.0000e+00\n",
            "Epoch 4/10\n",
            "154/154 [==============================] - 0s 2ms/step - loss: -2.8401 - accuracy: 0.0000e+00 - val_loss: -3.4641 - val_accuracy: 0.0000e+00\n",
            "Epoch 5/10\n",
            "154/154 [==============================] - 0s 2ms/step - loss: -4.3948 - accuracy: 0.0000e+00 - val_loss: -2.7247 - val_accuracy: 0.0000e+00\n",
            "Epoch 6/10\n",
            "154/154 [==============================] - 0s 2ms/step - loss: -6.0448 - accuracy: 0.0000e+00 - val_loss: -6.3264 - val_accuracy: 0.0000e+00\n",
            "Epoch 7/10\n",
            "154/154 [==============================] - 0s 2ms/step - loss: -7.6682 - accuracy: 0.0000e+00 - val_loss: -6.2767 - val_accuracy: 0.0000e+00\n",
            "Epoch 8/10\n",
            "154/154 [==============================] - 0s 2ms/step - loss: -9.5165 - accuracy: 0.0000e+00 - val_loss: -7.8517 - val_accuracy: 0.0000e+00\n",
            "Epoch 9/10\n",
            "154/154 [==============================] - 0s 2ms/step - loss: -11.3364 - accuracy: 0.0000e+00 - val_loss: -9.9976 - val_accuracy: 0.0000e+00\n",
            "Epoch 10/10\n",
            "154/154 [==============================] - 0s 2ms/step - loss: -13.0555 - accuracy: 0.0000e+00 - val_loss: -12.9406 - val_accuracy: 0.0000e+00\n"
          ]
        }
      ]
    },
    {
      "cell_type": "code",
      "source": [
        "y_pred=model_ann1.predict(x_test)\n",
        "y_pred=np.where(y_pred>0.5,1,0)\n",
        "print(y_pred.shape)\n",
        "print(y_test.shape)\n",
        "# print(y_pred)"
      ],
      "metadata": {
        "colab": {
          "base_uri": "https://localhost:8080/"
        },
        "id": "NSAdZ7m0lOTT",
        "outputId": "563083c5-c74f-4f64-8dd2-162262b18b8f"
      },
      "execution_count": null,
      "outputs": [
        {
          "output_type": "stream",
          "name": "stdout",
          "text": [
            "5/5 [==============================] - 0s 3ms/step\n",
            "(154, 1)\n",
            "(154, 1)\n"
          ]
        }
      ]
    },
    {
      "cell_type": "code",
      "source": [
        "\n",
        "\n"
      ],
      "metadata": {
        "id": "yOmoUnVHlify"
      },
      "execution_count": null,
      "outputs": []
    }
  ]
}