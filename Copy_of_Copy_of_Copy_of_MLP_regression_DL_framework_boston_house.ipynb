{
  "nbformat": 4,
  "nbformat_minor": 0,
  "metadata": {
    "colab": {
      "provenance": [],
      "include_colab_link": true
    },
    "kernelspec": {
      "name": "python3",
      "display_name": "Python 3"
    },
    "language_info": {
      "name": "python"
    }
  },
  "cells": [
    {
      "cell_type": "markdown",
      "metadata": {
        "id": "view-in-github",
        "colab_type": "text"
      },
      "source": [
        "<a href=\"https://colab.research.google.com/github/PrachiHarish/DL-Projects/blob/main/Copy_of_Copy_of_Copy_of_MLP_regression_DL_framework_boston_house.ipynb\" target=\"_parent\"><img src=\"https://colab.research.google.com/assets/colab-badge.svg\" alt=\"Open In Colab\"/></a>"
      ]
    },
    {
      "cell_type": "code",
      "execution_count": null,
      "metadata": {
        "id": "W-05lG-kar6j"
      },
      "outputs": [],
      "source": [
        "import tensorflow as tf\n",
        "from tensorflow.keras.models import Model,load_model,Sequential\n",
        "from tensorflow.keras.layers import*\n",
        "from tensorflow.keras import backend as K\n",
        "from tensorflow.keras.optimizers import SGD\n",
        "from tensorflow.keras.utils import to_categorical\n",
        "from tensorflow.keras.datasets import mnist\n",
        "\n",
        "import matplotlib.pyplot as plt\n",
        "import numpy as np"
      ]
    },
    {
      "cell_type": "code",
      "source": [
        "import pandas as pd\n",
        "path=\"/content/drive/MyDrive/Dataset/boston.csv\"\n",
        "dataset=pd.read_csv(path)\n",
        "dataset.head()"
      ],
      "metadata": {
        "colab": {
          "base_uri": "https://localhost:8080/",
          "height": 206
        },
        "id": "p89yMtnNa30P",
        "outputId": "1b4e8a7e-abc0-43ae-ab08-2f06ad6375a5"
      },
      "execution_count": null,
      "outputs": [
        {
          "output_type": "execute_result",
          "data": {
            "text/plain": [
              "      CRIM    ZN  INDUS  CHAS    NOX     RM   AGE     DIS  RAD    TAX  \\\n",
              "0  0.00632  18.0   2.31     0  0.538  6.575  65.2  4.0900    1  296.0   \n",
              "1  0.02731   0.0   7.07     0  0.469  6.421  78.9  4.9671    2  242.0   \n",
              "2  0.02729   0.0   7.07     0  0.469  7.185  61.1  4.9671    2  242.0   \n",
              "3  0.03237   0.0   2.18     0  0.458  6.998  45.8  6.0622    3  222.0   \n",
              "4  0.06905   0.0   2.18     0  0.458  7.147  54.2  6.0622    3  222.0   \n",
              "\n",
              "   PTRATIO       B  LSTAT  MEDV  \n",
              "0     15.3  396.90   4.98  24.0  \n",
              "1     17.8  396.90   9.14  21.6  \n",
              "2     17.8  392.83   4.03  34.7  \n",
              "3     18.7  394.63   2.94  33.4  \n",
              "4     18.7  396.90   5.33  36.2  "
            ],
            "text/html": [
              "\n",
              "  <div id=\"df-a102440a-8bbe-4310-83ea-b3970f544437\">\n",
              "    <div class=\"colab-df-container\">\n",
              "      <div>\n",
              "<style scoped>\n",
              "    .dataframe tbody tr th:only-of-type {\n",
              "        vertical-align: middle;\n",
              "    }\n",
              "\n",
              "    .dataframe tbody tr th {\n",
              "        vertical-align: top;\n",
              "    }\n",
              "\n",
              "    .dataframe thead th {\n",
              "        text-align: right;\n",
              "    }\n",
              "</style>\n",
              "<table border=\"1\" class=\"dataframe\">\n",
              "  <thead>\n",
              "    <tr style=\"text-align: right;\">\n",
              "      <th></th>\n",
              "      <th>CRIM</th>\n",
              "      <th>ZN</th>\n",
              "      <th>INDUS</th>\n",
              "      <th>CHAS</th>\n",
              "      <th>NOX</th>\n",
              "      <th>RM</th>\n",
              "      <th>AGE</th>\n",
              "      <th>DIS</th>\n",
              "      <th>RAD</th>\n",
              "      <th>TAX</th>\n",
              "      <th>PTRATIO</th>\n",
              "      <th>B</th>\n",
              "      <th>LSTAT</th>\n",
              "      <th>MEDV</th>\n",
              "    </tr>\n",
              "  </thead>\n",
              "  <tbody>\n",
              "    <tr>\n",
              "      <th>0</th>\n",
              "      <td>0.00632</td>\n",
              "      <td>18.0</td>\n",
              "      <td>2.31</td>\n",
              "      <td>0</td>\n",
              "      <td>0.538</td>\n",
              "      <td>6.575</td>\n",
              "      <td>65.2</td>\n",
              "      <td>4.0900</td>\n",
              "      <td>1</td>\n",
              "      <td>296.0</td>\n",
              "      <td>15.3</td>\n",
              "      <td>396.90</td>\n",
              "      <td>4.98</td>\n",
              "      <td>24.0</td>\n",
              "    </tr>\n",
              "    <tr>\n",
              "      <th>1</th>\n",
              "      <td>0.02731</td>\n",
              "      <td>0.0</td>\n",
              "      <td>7.07</td>\n",
              "      <td>0</td>\n",
              "      <td>0.469</td>\n",
              "      <td>6.421</td>\n",
              "      <td>78.9</td>\n",
              "      <td>4.9671</td>\n",
              "      <td>2</td>\n",
              "      <td>242.0</td>\n",
              "      <td>17.8</td>\n",
              "      <td>396.90</td>\n",
              "      <td>9.14</td>\n",
              "      <td>21.6</td>\n",
              "    </tr>\n",
              "    <tr>\n",
              "      <th>2</th>\n",
              "      <td>0.02729</td>\n",
              "      <td>0.0</td>\n",
              "      <td>7.07</td>\n",
              "      <td>0</td>\n",
              "      <td>0.469</td>\n",
              "      <td>7.185</td>\n",
              "      <td>61.1</td>\n",
              "      <td>4.9671</td>\n",
              "      <td>2</td>\n",
              "      <td>242.0</td>\n",
              "      <td>17.8</td>\n",
              "      <td>392.83</td>\n",
              "      <td>4.03</td>\n",
              "      <td>34.7</td>\n",
              "    </tr>\n",
              "    <tr>\n",
              "      <th>3</th>\n",
              "      <td>0.03237</td>\n",
              "      <td>0.0</td>\n",
              "      <td>2.18</td>\n",
              "      <td>0</td>\n",
              "      <td>0.458</td>\n",
              "      <td>6.998</td>\n",
              "      <td>45.8</td>\n",
              "      <td>6.0622</td>\n",
              "      <td>3</td>\n",
              "      <td>222.0</td>\n",
              "      <td>18.7</td>\n",
              "      <td>394.63</td>\n",
              "      <td>2.94</td>\n",
              "      <td>33.4</td>\n",
              "    </tr>\n",
              "    <tr>\n",
              "      <th>4</th>\n",
              "      <td>0.06905</td>\n",
              "      <td>0.0</td>\n",
              "      <td>2.18</td>\n",
              "      <td>0</td>\n",
              "      <td>0.458</td>\n",
              "      <td>7.147</td>\n",
              "      <td>54.2</td>\n",
              "      <td>6.0622</td>\n",
              "      <td>3</td>\n",
              "      <td>222.0</td>\n",
              "      <td>18.7</td>\n",
              "      <td>396.90</td>\n",
              "      <td>5.33</td>\n",
              "      <td>36.2</td>\n",
              "    </tr>\n",
              "  </tbody>\n",
              "</table>\n",
              "</div>\n",
              "      <button class=\"colab-df-convert\" onclick=\"convertToInteractive('df-a102440a-8bbe-4310-83ea-b3970f544437')\"\n",
              "              title=\"Convert this dataframe to an interactive table.\"\n",
              "              style=\"display:none;\">\n",
              "        \n",
              "  <svg xmlns=\"http://www.w3.org/2000/svg\" height=\"24px\"viewBox=\"0 0 24 24\"\n",
              "       width=\"24px\">\n",
              "    <path d=\"M0 0h24v24H0V0z\" fill=\"none\"/>\n",
              "    <path d=\"M18.56 5.44l.94 2.06.94-2.06 2.06-.94-2.06-.94-.94-2.06-.94 2.06-2.06.94zm-11 1L8.5 8.5l.94-2.06 2.06-.94-2.06-.94L8.5 2.5l-.94 2.06-2.06.94zm10 10l.94 2.06.94-2.06 2.06-.94-2.06-.94-.94-2.06-.94 2.06-2.06.94z\"/><path d=\"M17.41 7.96l-1.37-1.37c-.4-.4-.92-.59-1.43-.59-.52 0-1.04.2-1.43.59L10.3 9.45l-7.72 7.72c-.78.78-.78 2.05 0 2.83L4 21.41c.39.39.9.59 1.41.59.51 0 1.02-.2 1.41-.59l7.78-7.78 2.81-2.81c.8-.78.8-2.07 0-2.86zM5.41 20L4 18.59l7.72-7.72 1.47 1.35L5.41 20z\"/>\n",
              "  </svg>\n",
              "      </button>\n",
              "      \n",
              "  <style>\n",
              "    .colab-df-container {\n",
              "      display:flex;\n",
              "      flex-wrap:wrap;\n",
              "      gap: 12px;\n",
              "    }\n",
              "\n",
              "    .colab-df-convert {\n",
              "      background-color: #E8F0FE;\n",
              "      border: none;\n",
              "      border-radius: 50%;\n",
              "      cursor: pointer;\n",
              "      display: none;\n",
              "      fill: #1967D2;\n",
              "      height: 32px;\n",
              "      padding: 0 0 0 0;\n",
              "      width: 32px;\n",
              "    }\n",
              "\n",
              "    .colab-df-convert:hover {\n",
              "      background-color: #E2EBFA;\n",
              "      box-shadow: 0px 1px 2px rgba(60, 64, 67, 0.3), 0px 1px 3px 1px rgba(60, 64, 67, 0.15);\n",
              "      fill: #174EA6;\n",
              "    }\n",
              "\n",
              "    [theme=dark] .colab-df-convert {\n",
              "      background-color: #3B4455;\n",
              "      fill: #D2E3FC;\n",
              "    }\n",
              "\n",
              "    [theme=dark] .colab-df-convert:hover {\n",
              "      background-color: #434B5C;\n",
              "      box-shadow: 0px 1px 3px 1px rgba(0, 0, 0, 0.15);\n",
              "      filter: drop-shadow(0px 1px 2px rgba(0, 0, 0, 0.3));\n",
              "      fill: #FFFFFF;\n",
              "    }\n",
              "  </style>\n",
              "\n",
              "      <script>\n",
              "        const buttonEl =\n",
              "          document.querySelector('#df-a102440a-8bbe-4310-83ea-b3970f544437 button.colab-df-convert');\n",
              "        buttonEl.style.display =\n",
              "          google.colab.kernel.accessAllowed ? 'block' : 'none';\n",
              "\n",
              "        async function convertToInteractive(key) {\n",
              "          const element = document.querySelector('#df-a102440a-8bbe-4310-83ea-b3970f544437');\n",
              "          const dataTable =\n",
              "            await google.colab.kernel.invokeFunction('convertToInteractive',\n",
              "                                                     [key], {});\n",
              "          if (!dataTable) return;\n",
              "\n",
              "          const docLinkHtml = 'Like what you see? Visit the ' +\n",
              "            '<a target=\"_blank\" href=https://colab.research.google.com/notebooks/data_table.ipynb>data table notebook</a>'\n",
              "            + ' to learn more about interactive tables.';\n",
              "          element.innerHTML = '';\n",
              "          dataTable['output_type'] = 'display_data';\n",
              "          await google.colab.output.renderOutput(dataTable, element);\n",
              "          const docLink = document.createElement('div');\n",
              "          docLink.innerHTML = docLinkHtml;\n",
              "          element.appendChild(docLink);\n",
              "        }\n",
              "      </script>\n",
              "    </div>\n",
              "  </div>\n",
              "  "
            ]
          },
          "metadata": {},
          "execution_count": 3
        }
      ]
    },
    {
      "cell_type": "code",
      "source": [
        "dataset.shape"
      ],
      "metadata": {
        "colab": {
          "base_uri": "https://localhost:8080/"
        },
        "id": "Wd2u_lm3bmPn",
        "outputId": "ffb2dab5-72df-4e4c-e48c-a7558609c63a"
      },
      "execution_count": null,
      "outputs": [
        {
          "output_type": "execute_result",
          "data": {
            "text/plain": [
              "(506, 14)"
            ]
          },
          "metadata": {},
          "execution_count": 4
        }
      ]
    },
    {
      "cell_type": "code",
      "source": [
        "dataset.columns"
      ],
      "metadata": {
        "colab": {
          "base_uri": "https://localhost:8080/"
        },
        "id": "fOuf_O5lbsrL",
        "outputId": "6b020108-9b81-49b3-f04d-23507e4fe63e"
      },
      "execution_count": null,
      "outputs": [
        {
          "output_type": "execute_result",
          "data": {
            "text/plain": [
              "Index(['CRIM', 'ZN', 'INDUS', 'CHAS', 'NOX', 'RM', 'AGE', 'DIS', 'RAD', 'TAX',\n",
              "       'PTRATIO', 'B', 'LSTAT', 'MEDV'],\n",
              "      dtype='object')"
            ]
          },
          "metadata": {},
          "execution_count": 5
        }
      ]
    },
    {
      "cell_type": "code",
      "source": [
        "dataset.isnull().sum()"
      ],
      "metadata": {
        "colab": {
          "base_uri": "https://localhost:8080/"
        },
        "id": "LqR7PlF1bwSu",
        "outputId": "134ec90f-a650-45e4-998d-976c227dd4f2"
      },
      "execution_count": null,
      "outputs": [
        {
          "output_type": "execute_result",
          "data": {
            "text/plain": [
              "CRIM       0\n",
              "ZN         0\n",
              "INDUS      0\n",
              "CHAS       0\n",
              "NOX        0\n",
              "RM         0\n",
              "AGE        0\n",
              "DIS        0\n",
              "RAD        0\n",
              "TAX        0\n",
              "PTRATIO    0\n",
              "B          0\n",
              "LSTAT      0\n",
              "MEDV       0\n",
              "dtype: int64"
            ]
          },
          "metadata": {},
          "execution_count": 6
        }
      ]
    },
    {
      "cell_type": "code",
      "source": [
        "import numpy as np\n",
        "x=np.array(dataset.iloc[:,0:13])\n",
        "y=np.array(dataset[[\"MEDV\"]])\n",
        "print(x.shape)\n",
        "print(y.shape)"
      ],
      "metadata": {
        "colab": {
          "base_uri": "https://localhost:8080/"
        },
        "id": "FGO3i_tzb14E",
        "outputId": "650c8645-5c76-4683-e2cc-16a3b92cdeda"
      },
      "execution_count": null,
      "outputs": [
        {
          "output_type": "stream",
          "name": "stdout",
          "text": [
            "(506, 13)\n",
            "(506, 1)\n"
          ]
        }
      ]
    },
    {
      "cell_type": "code",
      "source": [
        "# without using in-built lib\n",
        "x_norm=(x-x.mean())/x.std()\n",
        "y_norm=(y-y.mean())/y.std()\n",
        "print(x_norm.shape)\n",
        "print(y_norm.shape)"
      ],
      "metadata": {
        "colab": {
          "base_uri": "https://localhost:8080/"
        },
        "id": "2b0P8pw-b42M",
        "outputId": "8959fec3-2933-413e-80de-b25c47b69513"
      },
      "execution_count": null,
      "outputs": [
        {
          "output_type": "stream",
          "name": "stdout",
          "text": [
            "(506, 13)\n",
            "(506, 1)\n"
          ]
        }
      ]
    },
    {
      "cell_type": "code",
      "source": [
        "from sklearn.model_selection import train_test_split\n",
        "x_train,x_test,y_train,y_test= train_test_split(x_norm,y_norm,test_size=0.2)\n",
        "print(x_train.shape)\n",
        "print(x_test.shape)\n",
        "print(y_train.shape)\n",
        "print(y_test.shape)"
      ],
      "metadata": {
        "colab": {
          "base_uri": "https://localhost:8080/"
        },
        "id": "qX-s91p-b8a4",
        "outputId": "2f36d1fd-9d83-439e-ff96-3a3a16252048"
      },
      "execution_count": null,
      "outputs": [
        {
          "output_type": "stream",
          "name": "stdout",
          "text": [
            "(404, 13)\n",
            "(102, 13)\n",
            "(404, 1)\n",
            "(102, 1)\n"
          ]
        }
      ]
    },
    {
      "cell_type": "markdown",
      "source": [
        "**Method 1: Sequential**"
      ],
      "metadata": {
        "id": "k3O28Nj8cKAX"
      }
    },
    {
      "cell_type": "code",
      "source": [
        "model_ann1=Sequential()\n",
        "model_ann1.add(Dense(16,input_dim=13,activation=\"relu\",kernel_initializer=\"he_uniform\",bias_initializer=\"he_uniform\",name=\"Hidden_1\"))\n",
        "model_ann1.add(Dense(32,activation=\"relu\",kernel_initializer=\"he_uniform\",bias_initializer=\"he_uniform\",name=\"Hidden_2\"))\n",
        "model_ann1.add(Dense(1,activation=\"linear\",kernel_initializer=\"he_uniform\",bias_initializer=\"he_uniform\",name=\"output\"))\n",
        "model_ann1.summary()"
      ],
      "metadata": {
        "colab": {
          "base_uri": "https://localhost:8080/"
        },
        "id": "GSJ2ARt3cQJz",
        "outputId": "b342eeb9-dc9b-4c69-c5ad-4a08c94d257b"
      },
      "execution_count": null,
      "outputs": [
        {
          "output_type": "stream",
          "name": "stdout",
          "text": [
            "Model: \"sequential_1\"\n",
            "_________________________________________________________________\n",
            " Layer (type)                Output Shape              Param #   \n",
            "=================================================================\n",
            " Hidden_1 (Dense)            (None, 16)                224       \n",
            "                                                                 \n",
            " Hidden_2 (Dense)            (None, 32)                544       \n",
            "                                                                 \n",
            " output (Dense)              (None, 1)                 33        \n",
            "                                                                 \n",
            "=================================================================\n",
            "Total params: 801\n",
            "Trainable params: 801\n",
            "Non-trainable params: 0\n",
            "_________________________________________________________________\n"
          ]
        }
      ]
    },
    {
      "cell_type": "markdown",
      "source": [
        "**Method 2: Functional**"
      ],
      "metadata": {
        "id": "-0oayRXBgDgg"
      }
    },
    {
      "cell_type": "code",
      "source": [
        "inp=Input(shape=(13,),name=\"Input\")\n",
        "h1=Dense(16,activation=\"relu\",kernel_initializer=\"he_uniform\",bias_initializer=\"he_uniform\",name=\"hidden_1\")(inp)\n",
        "h2=Dense(32,activation=\"relu\",kernel_initializer=\"he_uniform\",bias_initializer=\"he_uniform\",name=\"hidden_2\")(h1)\n",
        "output=Dense(1,activation=\"linear\",kernel_initializer=\"he_uniform\",bias_initializer=\"he_uniform\",name=\"Output\")(h2)\n",
        "model_ann3=Model(inp,output)\n",
        "model_ann3.summary()"
      ],
      "metadata": {
        "colab": {
          "base_uri": "https://localhost:8080/"
        },
        "id": "ew6BV-JogHEL",
        "outputId": "1795fcc1-b0b8-46cb-f39b-7a56272f33fa"
      },
      "execution_count": null,
      "outputs": [
        {
          "output_type": "stream",
          "name": "stdout",
          "text": [
            "Model: \"model\"\n",
            "_________________________________________________________________\n",
            " Layer (type)                Output Shape              Param #   \n",
            "=================================================================\n",
            " Input (InputLayer)          [(None, 13)]              0         \n",
            "                                                                 \n",
            " hidden_1 (Dense)            (None, 16)                224       \n",
            "                                                                 \n",
            " hidden_2 (Dense)            (None, 32)                544       \n",
            "                                                                 \n",
            " Output (Dense)              (None, 1)                 33        \n",
            "                                                                 \n",
            "=================================================================\n",
            "Total params: 801\n",
            "Trainable params: 801\n",
            "Non-trainable params: 0\n",
            "_________________________________________________________________\n"
          ]
        }
      ]
    },
    {
      "cell_type": "markdown",
      "source": [
        "**Method 3: Subclass**"
      ],
      "metadata": {
        "id": "teK6qVPsgof-"
      }
    },
    {
      "cell_type": "code",
      "source": [
        "class CustomModel:\n",
        "  def __init__ (self):\n",
        "    self.dense1=Dense(16,activation=\"relu\",kernel_initializer=\"he_uniform\",bias_initializer=\"he_uniform\",name=\"Hidden_1\")\n",
        "    self.dense2=Dense(32,activation=\"relu\",kernel_initializer=\"he_uniform\",bias_initializer=\"he_uniform\",name=\"Hidden_2\")\n",
        "    self.output=Dense(1,activation=\"linear\",kernel_initializer=\"he_uniform\",bias_initializer=\"he_uniform\",name=\"Output\")\n",
        "  def call(self,shape):\n",
        "    self.inp=Input(shape,name=\"Input\")\n",
        "    h1=self.dense1(self.inp)\n",
        "    h2=self.dense2(h1)\n",
        "    output=self.output(h2)\n",
        "    model=Model(self.inp,output)\n",
        "    return model\n",
        "m=CustomModel()\n",
        "model_ann3=m.call(shape=(13,))\n",
        "model_ann3.summary()\n"
      ],
      "metadata": {
        "colab": {
          "base_uri": "https://localhost:8080/"
        },
        "id": "pXUrHFt5grbm",
        "outputId": "c2e647a6-47d1-4f1f-8643-e79bffa83550"
      },
      "execution_count": null,
      "outputs": [
        {
          "output_type": "stream",
          "name": "stdout",
          "text": [
            "Model: \"model_1\"\n",
            "_________________________________________________________________\n",
            " Layer (type)                Output Shape              Param #   \n",
            "=================================================================\n",
            " Input (InputLayer)          [(None, 13)]              0         \n",
            "                                                                 \n",
            " Hidden_1 (Dense)            (None, 16)                224       \n",
            "                                                                 \n",
            " Hidden_2 (Dense)            (None, 32)                544       \n",
            "                                                                 \n",
            " Output (Dense)              (None, 1)                 33        \n",
            "                                                                 \n",
            "=================================================================\n",
            "Total params: 801\n",
            "Trainable params: 801\n",
            "Non-trainable params: 0\n",
            "_________________________________________________________________\n"
          ]
        }
      ]
    },
    {
      "cell_type": "code",
      "source": [
        "model_ann1.compile(optimizer=\"SGD\",loss=\"mean_squared_error\",metrics=[\"accuracy\"])\n",
        "history_ann1=model_ann1.fit(x_train,y_train,epochs=10,batch_size=4,validation_data=(x_test,y_test),verbose=1)\n"
      ],
      "metadata": {
        "colab": {
          "base_uri": "https://localhost:8080/"
        },
        "id": "jbVKcbKwhuUf",
        "outputId": "44341931-015a-4050-c86e-a8669a1aec48"
      },
      "execution_count": null,
      "outputs": [
        {
          "output_type": "stream",
          "name": "stdout",
          "text": [
            "Epoch 1/10\n",
            "101/101 [==============================] - 1s 4ms/step - loss: 1.0794 - accuracy: 0.0000e+00 - val_loss: 0.5882 - val_accuracy: 0.0000e+00\n",
            "Epoch 2/10\n",
            "101/101 [==============================] - 0s 2ms/step - loss: 0.8739 - accuracy: 0.0000e+00 - val_loss: 0.5180 - val_accuracy: 0.0000e+00\n",
            "Epoch 3/10\n",
            "101/101 [==============================] - 0s 2ms/step - loss: 0.8411 - accuracy: 0.0000e+00 - val_loss: 0.6701 - val_accuracy: 0.0000e+00\n",
            "Epoch 4/10\n",
            "101/101 [==============================] - 0s 2ms/step - loss: 0.8189 - accuracy: 0.0000e+00 - val_loss: 0.6340 - val_accuracy: 0.0000e+00\n",
            "Epoch 5/10\n",
            "101/101 [==============================] - 0s 2ms/step - loss: 0.8144 - accuracy: 0.0000e+00 - val_loss: 0.5970 - val_accuracy: 0.0000e+00\n",
            "Epoch 6/10\n",
            "101/101 [==============================] - 0s 2ms/step - loss: 0.7625 - accuracy: 0.0000e+00 - val_loss: 0.4927 - val_accuracy: 0.0000e+00\n",
            "Epoch 7/10\n",
            "101/101 [==============================] - 0s 2ms/step - loss: 0.7614 - accuracy: 0.0000e+00 - val_loss: 0.5654 - val_accuracy: 0.0000e+00\n",
            "Epoch 8/10\n",
            "101/101 [==============================] - 0s 2ms/step - loss: 0.7662 - accuracy: 0.0000e+00 - val_loss: 0.5167 - val_accuracy: 0.0000e+00\n",
            "Epoch 9/10\n",
            "101/101 [==============================] - 0s 2ms/step - loss: 0.7611 - accuracy: 0.0000e+00 - val_loss: 0.6188 - val_accuracy: 0.0000e+00\n",
            "Epoch 10/10\n",
            "101/101 [==============================] - 0s 2ms/step - loss: 0.7554 - accuracy: 0.0000e+00 - val_loss: 0.5003 - val_accuracy: 0.0000e+00\n"
          ]
        }
      ]
    },
    {
      "cell_type": "code",
      "source": [
        "y_pred=model_ann1.predict(x_test)\n",
        "print(y_pred)"
      ],
      "metadata": {
        "colab": {
          "base_uri": "https://localhost:8080/"
        },
        "id": "NSAdZ7m0lOTT",
        "outputId": "95cb0ac0-1065-4cdc-f256-032f65b0ec5f"
      },
      "execution_count": null,
      "outputs": [
        {
          "output_type": "stream",
          "name": "stdout",
          "text": [
            "4/4 [==============================] - 0s 2ms/step\n",
            "[[-2.99560308e-01]\n",
            " [-2.85600305e-01]\n",
            " [-3.80291462e-01]\n",
            " [-3.80621552e-02]\n",
            " [ 2.49701142e-01]\n",
            " [-3.25444221e-01]\n",
            " [-3.75710249e-01]\n",
            " [-2.33532131e-01]\n",
            " [ 4.44669366e-01]\n",
            " [ 5.35869598e-03]\n",
            " [-6.76154017e-01]\n",
            " [-1.61801577e-02]\n",
            " [ 1.38751268e-02]\n",
            " [-1.88915193e-01]\n",
            " [-4.07057047e-01]\n",
            " [ 2.30036497e-01]\n",
            " [ 6.67452931e-01]\n",
            " [ 3.04020524e-01]\n",
            " [-3.69395494e-01]\n",
            " [-3.65440249e-01]\n",
            " [ 5.48715949e-01]\n",
            " [-3.77935529e-01]\n",
            " [-3.47357512e-01]\n",
            " [-8.24928284e-04]\n",
            " [-1.98055208e-01]\n",
            " [ 3.10317278e-02]\n",
            " [ 1.86903477e-01]\n",
            " [ 5.61285138e-01]\n",
            " [ 5.71083903e-01]\n",
            " [ 6.90429211e-02]\n",
            " [-3.74740362e-02]\n",
            " [-3.81717026e-01]\n",
            " [-7.67293811e-01]\n",
            " [-5.17504930e-01]\n",
            " [ 2.51694441e-01]\n",
            " [ 1.47339463e-01]\n",
            " [-4.97891307e-01]\n",
            " [-7.82456040e-01]\n",
            " [ 2.82412887e-01]\n",
            " [-2.10238218e-01]\n",
            " [-5.40942550e-01]\n",
            " [-4.12640512e-01]\n",
            " [-2.09276795e-01]\n",
            " [-3.75863671e-01]\n",
            " [ 2.42014408e-01]\n",
            " [ 2.56514072e-01]\n",
            " [ 2.74974108e-02]\n",
            " [-3.87730718e-01]\n",
            " [ 1.11459851e-01]\n",
            " [ 3.24700952e-01]\n",
            " [ 4.14061069e-01]\n",
            " [-4.60689306e-01]\n",
            " [-1.04079068e-01]\n",
            " [ 3.32497954e-01]\n",
            " [ 1.05199635e+00]\n",
            " [ 2.36242533e-01]\n",
            " [ 4.92839694e-01]\n",
            " [ 4.53183651e-02]\n",
            " [-8.46326351e-02]\n",
            " [-5.03401577e-01]\n",
            " [ 6.52856827e-02]\n",
            " [ 2.42844820e-02]\n",
            " [ 5.95206022e-02]\n",
            " [-1.52800322e-01]\n",
            " [ 3.75124216e-02]\n",
            " [-1.05608284e-01]\n",
            " [-7.92436063e-01]\n",
            " [-2.90678740e-02]\n",
            " [-8.22270155e-01]\n",
            " [ 1.79533958e-02]\n",
            " [-2.28621304e-01]\n",
            " [-3.14486861e-01]\n",
            " [-4.63398695e-01]\n",
            " [ 1.47655487e-01]\n",
            " [ 3.27140927e-01]\n",
            " [ 4.88504767e-01]\n",
            " [-5.42637110e-01]\n",
            " [ 3.29852104e-04]\n",
            " [ 6.27713680e-01]\n",
            " [-1.73541903e-01]\n",
            " [-2.29795456e-01]\n",
            " [-7.74760723e-01]\n",
            " [-1.04845524e-01]\n",
            " [-2.74728835e-01]\n",
            " [-4.30288911e-01]\n",
            " [-7.97245622e-01]\n",
            " [-2.98053503e-01]\n",
            " [-4.11748767e-01]\n",
            " [-1.43757224e-01]\n",
            " [ 3.35822105e-02]\n",
            " [ 4.37684178e-01]\n",
            " [ 4.32053447e-01]\n",
            " [ 1.16200447e-02]\n",
            " [-2.50531554e-01]\n",
            " [-1.57778800e-01]\n",
            " [ 6.27706170e-01]\n",
            " [ 6.00760579e-01]\n",
            " [-9.00166035e-01]\n",
            " [-3.48834574e-01]\n",
            " [ 2.67978907e-02]\n",
            " [ 3.75356078e-01]\n",
            " [ 2.95904517e-01]]\n"
          ]
        }
      ]
    },
    {
      "cell_type": "code",
      "source": [
        "\n",
        "from sklearn.metrics import r2_score,mean_squared_error,mean_absolute_error\n",
        "from math import sqrt\n",
        "print(\"MAE :\" , mean_absolute_error(y_test,y_pred))\n",
        "print(\"RMSE :\" , np.sqrt(mean_squared_error(y_test,y_pred)))\n"
      ],
      "metadata": {
        "colab": {
          "base_uri": "https://localhost:8080/"
        },
        "id": "yOmoUnVHlify",
        "outputId": "8406683c-47ee-4607-d32c-e2ee0d3f413b"
      },
      "execution_count": null,
      "outputs": [
        {
          "output_type": "stream",
          "name": "stdout",
          "text": [
            "MAE : 0.48759334965554596\n",
            "RMSE : 0.7073384739959557\n"
          ]
        }
      ]
    }
  ]
}