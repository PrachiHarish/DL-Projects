{
  "cells": [
    {
      "cell_type": "markdown",
      "metadata": {
        "id": "view-in-github",
        "colab_type": "text"
      },
      "source": [
        "<a href=\"https://colab.research.google.com/github/PrachiHarish/DL-Projects/blob/main/Copy_of_sequential_ann_model_.ipynb\" target=\"_parent\"><img src=\"https://colab.research.google.com/assets/colab-badge.svg\" alt=\"Open In Colab\"/></a>"
      ]
    },
    {
      "cell_type": "code",
      "execution_count": null,
      "metadata": {
        "id": "jLQW8Y4v4gxt"
      },
      "outputs": [],
      "source": [
        "import tensorflow as tf\n",
        "from tensorflow.keras.models import Model,load_model,Sequential\n",
        "from tensorflow.keras.layers import*\n",
        "from tensorflow.keras import backend as K\n",
        "from tensorflow.keras.optimizers import SGD\n",
        "from tensorflow.keras.utils import to_categorical\n",
        "from tensorflow.keras.datasets import mnist\n",
        "\n",
        "import matplotlib.pyplot as plt\n",
        "import numpy as np"
      ]
    },
    {
      "cell_type": "code",
      "execution_count": null,
      "metadata": {
        "colab": {
          "base_uri": "https://localhost:8080/",
          "height": 206
        },
        "id": "ESqmLKAjzQuC",
        "outputId": "e2e703cc-dbaf-40a6-b27e-6018551cf4c6"
      },
      "outputs": [
        {
          "data": {
            "text/html": [
              "\n",
              "  <div id=\"df-abed5486-8bb0-4d73-ac2d-48e48867bb57\">\n",
              "    <div class=\"colab-df-container\">\n",
              "      <div>\n",
              "<style scoped>\n",
              "    .dataframe tbody tr th:only-of-type {\n",
              "        vertical-align: middle;\n",
              "    }\n",
              "\n",
              "    .dataframe tbody tr th {\n",
              "        vertical-align: top;\n",
              "    }\n",
              "\n",
              "    .dataframe thead th {\n",
              "        text-align: right;\n",
              "    }\n",
              "</style>\n",
              "<table border=\"1\" class=\"dataframe\">\n",
              "  <thead>\n",
              "    <tr style=\"text-align: right;\">\n",
              "      <th></th>\n",
              "      <th>R&amp;D Spend</th>\n",
              "      <th>Administration</th>\n",
              "      <th>Marketing Spend</th>\n",
              "      <th>State</th>\n",
              "      <th>Profit</th>\n",
              "    </tr>\n",
              "  </thead>\n",
              "  <tbody>\n",
              "    <tr>\n",
              "      <th>0</th>\n",
              "      <td>165349.20</td>\n",
              "      <td>136897.80</td>\n",
              "      <td>471784.10</td>\n",
              "      <td>New York</td>\n",
              "      <td>192261.83</td>\n",
              "    </tr>\n",
              "    <tr>\n",
              "      <th>1</th>\n",
              "      <td>162597.70</td>\n",
              "      <td>151377.59</td>\n",
              "      <td>443898.53</td>\n",
              "      <td>California</td>\n",
              "      <td>191792.06</td>\n",
              "    </tr>\n",
              "    <tr>\n",
              "      <th>2</th>\n",
              "      <td>153441.51</td>\n",
              "      <td>101145.55</td>\n",
              "      <td>407934.54</td>\n",
              "      <td>Florida</td>\n",
              "      <td>191050.39</td>\n",
              "    </tr>\n",
              "    <tr>\n",
              "      <th>3</th>\n",
              "      <td>144372.41</td>\n",
              "      <td>118671.85</td>\n",
              "      <td>383199.62</td>\n",
              "      <td>New York</td>\n",
              "      <td>182901.99</td>\n",
              "    </tr>\n",
              "    <tr>\n",
              "      <th>4</th>\n",
              "      <td>142107.34</td>\n",
              "      <td>91391.77</td>\n",
              "      <td>366168.42</td>\n",
              "      <td>Florida</td>\n",
              "      <td>166187.94</td>\n",
              "    </tr>\n",
              "  </tbody>\n",
              "</table>\n",
              "</div>\n",
              "      <button class=\"colab-df-convert\" onclick=\"convertToInteractive('df-abed5486-8bb0-4d73-ac2d-48e48867bb57')\"\n",
              "              title=\"Convert this dataframe to an interactive table.\"\n",
              "              style=\"display:none;\">\n",
              "        \n",
              "  <svg xmlns=\"http://www.w3.org/2000/svg\" height=\"24px\"viewBox=\"0 0 24 24\"\n",
              "       width=\"24px\">\n",
              "    <path d=\"M0 0h24v24H0V0z\" fill=\"none\"/>\n",
              "    <path d=\"M18.56 5.44l.94 2.06.94-2.06 2.06-.94-2.06-.94-.94-2.06-.94 2.06-2.06.94zm-11 1L8.5 8.5l.94-2.06 2.06-.94-2.06-.94L8.5 2.5l-.94 2.06-2.06.94zm10 10l.94 2.06.94-2.06 2.06-.94-2.06-.94-.94-2.06-.94 2.06-2.06.94z\"/><path d=\"M17.41 7.96l-1.37-1.37c-.4-.4-.92-.59-1.43-.59-.52 0-1.04.2-1.43.59L10.3 9.45l-7.72 7.72c-.78.78-.78 2.05 0 2.83L4 21.41c.39.39.9.59 1.41.59.51 0 1.02-.2 1.41-.59l7.78-7.78 2.81-2.81c.8-.78.8-2.07 0-2.86zM5.41 20L4 18.59l7.72-7.72 1.47 1.35L5.41 20z\"/>\n",
              "  </svg>\n",
              "      </button>\n",
              "      \n",
              "  <style>\n",
              "    .colab-df-container {\n",
              "      display:flex;\n",
              "      flex-wrap:wrap;\n",
              "      gap: 12px;\n",
              "    }\n",
              "\n",
              "    .colab-df-convert {\n",
              "      background-color: #E8F0FE;\n",
              "      border: none;\n",
              "      border-radius: 50%;\n",
              "      cursor: pointer;\n",
              "      display: none;\n",
              "      fill: #1967D2;\n",
              "      height: 32px;\n",
              "      padding: 0 0 0 0;\n",
              "      width: 32px;\n",
              "    }\n",
              "\n",
              "    .colab-df-convert:hover {\n",
              "      background-color: #E2EBFA;\n",
              "      box-shadow: 0px 1px 2px rgba(60, 64, 67, 0.3), 0px 1px 3px 1px rgba(60, 64, 67, 0.15);\n",
              "      fill: #174EA6;\n",
              "    }\n",
              "\n",
              "    [theme=dark] .colab-df-convert {\n",
              "      background-color: #3B4455;\n",
              "      fill: #D2E3FC;\n",
              "    }\n",
              "\n",
              "    [theme=dark] .colab-df-convert:hover {\n",
              "      background-color: #434B5C;\n",
              "      box-shadow: 0px 1px 3px 1px rgba(0, 0, 0, 0.15);\n",
              "      filter: drop-shadow(0px 1px 2px rgba(0, 0, 0, 0.3));\n",
              "      fill: #FFFFFF;\n",
              "    }\n",
              "  </style>\n",
              "\n",
              "      <script>\n",
              "        const buttonEl =\n",
              "          document.querySelector('#df-abed5486-8bb0-4d73-ac2d-48e48867bb57 button.colab-df-convert');\n",
              "        buttonEl.style.display =\n",
              "          google.colab.kernel.accessAllowed ? 'block' : 'none';\n",
              "\n",
              "        async function convertToInteractive(key) {\n",
              "          const element = document.querySelector('#df-abed5486-8bb0-4d73-ac2d-48e48867bb57');\n",
              "          const dataTable =\n",
              "            await google.colab.kernel.invokeFunction('convertToInteractive',\n",
              "                                                     [key], {});\n",
              "          if (!dataTable) return;\n",
              "\n",
              "          const docLinkHtml = 'Like what you see? Visit the ' +\n",
              "            '<a target=\"_blank\" href=https://colab.research.google.com/notebooks/data_table.ipynb>data table notebook</a>'\n",
              "            + ' to learn more about interactive tables.';\n",
              "          element.innerHTML = '';\n",
              "          dataTable['output_type'] = 'display_data';\n",
              "          await google.colab.output.renderOutput(dataTable, element);\n",
              "          const docLink = document.createElement('div');\n",
              "          docLink.innerHTML = docLinkHtml;\n",
              "          element.appendChild(docLink);\n",
              "        }\n",
              "      </script>\n",
              "    </div>\n",
              "  </div>\n",
              "  "
            ],
            "text/plain": [
              "   R&D Spend  Administration  Marketing Spend       State     Profit\n",
              "0  165349.20       136897.80        471784.10    New York  192261.83\n",
              "1  162597.70       151377.59        443898.53  California  191792.06\n",
              "2  153441.51       101145.55        407934.54     Florida  191050.39\n",
              "3  144372.41       118671.85        383199.62    New York  182901.99\n",
              "4  142107.34        91391.77        366168.42     Florida  166187.94"
            ]
          },
          "execution_count": 33,
          "metadata": {},
          "output_type": "execute_result"
        }
      ],
      "source": [
        "import pandas as pd\n",
        "path=\"/content/drive/MyDrive/Dataset/50_Startups.csv\"\n",
        "dataset=pd.read_csv(path)\n",
        "dataset.head()\n"
      ]
    },
    {
      "cell_type": "code",
      "execution_count": null,
      "metadata": {
        "colab": {
          "background_save": true,
          "base_uri": "https://localhost:8080/"
        },
        "id": "XFr9WL1o4XYE",
        "outputId": "07ce517a-238d-498a-b63c-ffc8920cccb5"
      },
      "outputs": [
        {
          "name": "stdout",
          "output_type": "stream",
          "text": [
            "(50, 3)\n",
            "(50, 1)\n"
          ]
        }
      ],
      "source": [
        "x=np.array(dataset.iloc[:,0:3])\n",
        "y=np.array(dataset[[\"Profit\"]])\n",
        "print(x.shape)\n",
        "print(y.shape)"
      ]
    },
    {
      "cell_type": "code",
      "execution_count": null,
      "metadata": {
        "colab": {
          "background_save": true,
          "base_uri": "https://localhost:8080/"
        },
        "id": "x1Jg2TDKjBVx",
        "outputId": "fccba932-9153-43fe-8521-3c695d2d50e6"
      },
      "outputs": [
        {
          "name": "stdout",
          "output_type": "stream",
          "text": [
            "(50, 3)\n",
            "(50, 1)\n"
          ]
        }
      ],
      "source": [
        "from sklearn.preprocessing import StandardScaler\n",
        "sc=StandardScaler()\n",
        "x_norm=sc.fit_transform(x)\n",
        "y_norm=sc.fit_transform(y)\n",
        "print(x_norm.shape)\n",
        "print(y_norm.shape)\n"
      ]
    },
    {
      "cell_type": "code",
      "execution_count": null,
      "metadata": {
        "colab": {
          "base_uri": "https://localhost:8080/"
        },
        "id": "me98Tzfk8qi2",
        "outputId": "3133c354-11c8-4a3a-b68e-122e65d69264"
      },
      "outputs": [
        {
          "name": "stdout",
          "output_type": "stream",
          "text": [
            "(40, 3)\n",
            "(10, 3)\n",
            "(40, 1)\n",
            "(10, 1)\n"
          ]
        }
      ],
      "source": [
        "from sklearn.model_selection import train_test_split\n",
        "x_train,x_test,y_train,y_test=train_test_split(x_norm,y_norm,test_size=0.2)\n",
        "print(x_train.shape)\n",
        "print(x_test.shape)\n",
        "print(y_train.shape)\n",
        "print(y_test.shape)"
      ]
    },
    {
      "cell_type": "markdown",
      "metadata": {
        "id": "MCH2mDTe51Rr"
      },
      "source": [
        " **Method-1 Sequential Approach for Creating ANN model**"
      ]
    },
    {
      "cell_type": "code",
      "execution_count": null,
      "metadata": {
        "colab": {
          "base_uri": "https://localhost:8080/"
        },
        "id": "Bd1CbBzU6GOf",
        "outputId": "39f53947-1b82-485e-e52a-dd1fe7d9c833"
      },
      "outputs": [
        {
          "name": "stdout",
          "output_type": "stream",
          "text": [
            "Model: \"sequential_2\"\n",
            "_________________________________________________________________\n",
            " Layer (type)                Output Shape              Param #   \n",
            "=================================================================\n",
            " dense_6 (Dense)             (None, 16)                64        \n",
            "                                                                 \n",
            " dense_7 (Dense)             (None, 32)                544       \n",
            "                                                                 \n",
            " dense_8 (Dense)             (None, 1)                 33        \n",
            "                                                                 \n",
            "=================================================================\n",
            "Total params: 641\n",
            "Trainable params: 641\n",
            "Non-trainable params: 0\n",
            "_________________________________________________________________\n"
          ]
        }
      ],
      "source": [
        "model_ann=Sequential()\n",
        "model_ann.add(Dense(16,input_dim=3,activation=\"tanh\"))\n",
        "model_ann.add(Dense(32,activation=\"tanh\"))\n",
        "model_ann.add(Dense(1,activation=\"linear\"))\n",
        "model_ann.summary()"
      ]
    },
    {
      "cell_type": "markdown",
      "metadata": {
        "id": "mJQrp8KXXkRX"
      },
      "source": [
        "**Method 2: Functional approach to building ann model**"
      ]
    },
    {
      "cell_type": "code",
      "execution_count": null,
      "metadata": {
        "colab": {
          "base_uri": "https://localhost:8080/",
          "height": 235
        },
        "id": "7p3_HVkBXuzA",
        "outputId": "a06bd5b7-89dc-4372-fd76-ad8f696bb6e3"
      },
      "outputs": [
        {
          "ename": "NameError",
          "evalue": "ignored",
          "output_type": "error",
          "traceback": [
            "\u001b[0;31m---------------------------------------------------------------------------\u001b[0m",
            "\u001b[0;31mNameError\u001b[0m                                 Traceback (most recent call last)",
            "\u001b[0;32m<ipython-input-1-6decd1ffc9bf>\u001b[0m in \u001b[0;36m<cell line: 1>\u001b[0;34m()\u001b[0m\n\u001b[0;32m----> 1\u001b[0;31m \u001b[0minp\u001b[0m\u001b[0;34m=\u001b[0m\u001b[0mInput\u001b[0m\u001b[0;34m(\u001b[0m\u001b[0mshape\u001b[0m\u001b[0;34m=\u001b[0m\u001b[0;34m(\u001b[0m\u001b[0;36m3\u001b[0m\u001b[0;34m,\u001b[0m\u001b[0;34m)\u001b[0m\u001b[0;34m)\u001b[0m\u001b[0;34m\u001b[0m\u001b[0;34m\u001b[0m\u001b[0m\n\u001b[0m\u001b[1;32m      2\u001b[0m \u001b[0mx1\u001b[0m\u001b[0;34m=\u001b[0m\u001b[0mDense\u001b[0m\u001b[0;34m(\u001b[0m\u001b[0;36m16\u001b[0m\u001b[0;34m,\u001b[0m\u001b[0mkernal_initializer\u001b[0m\u001b[0;34m=\u001b[0m\u001b[0;34m\"uniform\"\u001b[0m\u001b[0;34m,\u001b[0m\u001b[0mactivation\u001b[0m\u001b[0;34m=\u001b[0m\u001b[0;34m\"tanh\"\u001b[0m\u001b[0;34m)\u001b[0m\u001b[0;34m(\u001b[0m\u001b[0minp\u001b[0m\u001b[0;34m)\u001b[0m\u001b[0;34m\u001b[0m\u001b[0;34m\u001b[0m\u001b[0m\n\u001b[1;32m      3\u001b[0m \u001b[0mx2\u001b[0m\u001b[0;34m=\u001b[0m\u001b[0mDense\u001b[0m\u001b[0;34m(\u001b[0m\u001b[0;36m32\u001b[0m\u001b[0;34m,\u001b[0m\u001b[0mkernal_initializer\u001b[0m\u001b[0;34m=\u001b[0m\u001b[0;34m\"uniform\"\u001b[0m\u001b[0;34m,\u001b[0m\u001b[0mactivation\u001b[0m\u001b[0;34m=\u001b[0m\u001b[0;34m\"tanh\"\u001b[0m\u001b[0;34m)\u001b[0m\u001b[0;34m(\u001b[0m\u001b[0mx1\u001b[0m\u001b[0;34m)\u001b[0m\u001b[0;34m\u001b[0m\u001b[0;34m\u001b[0m\u001b[0m\n\u001b[1;32m      4\u001b[0m \u001b[0mout\u001b[0m\u001b[0;34m=\u001b[0m\u001b[0mDense\u001b[0m\u001b[0;34m(\u001b[0m\u001b[0;36m1\u001b[0m\u001b[0;34m,\u001b[0m\u001b[0mkernal_initializer\u001b[0m\u001b[0;34m=\u001b[0m\u001b[0;34m\"uniform\"\u001b[0m\u001b[0;34m,\u001b[0m\u001b[0mactivation\u001b[0m\u001b[0;34m=\u001b[0m\u001b[0;34m\"linear\"\u001b[0m\u001b[0;34m)\u001b[0m\u001b[0;34m(\u001b[0m\u001b[0mx2\u001b[0m\u001b[0;34m)\u001b[0m\u001b[0;34m\u001b[0m\u001b[0;34m\u001b[0m\u001b[0m\n\u001b[1;32m      5\u001b[0m \u001b[0mmodel_ann2\u001b[0m\u001b[0;34m=\u001b[0m\u001b[0mModel\u001b[0m\u001b[0;34m(\u001b[0m\u001b[0minputs\u001b[0m\u001b[0;34m=\u001b[0m\u001b[0mint\u001b[0m\u001b[0;34m,\u001b[0m\u001b[0moutputs\u001b[0m\u001b[0;34m=\u001b[0m\u001b[0mout\u001b[0m\u001b[0;34m)\u001b[0m\u001b[0;34m\u001b[0m\u001b[0;34m\u001b[0m\u001b[0m\n",
            "\u001b[0;31mNameError\u001b[0m: name 'Input' is not defined"
          ]
        }
      ],
      "source": [
        "inp=Input(shape=(3,))\n",
        "x1=Dense(16,kernal_initializer=\"uniform\",activation=\"tanh\")(inp)\n",
        "x2=Dense(32,kernal_initializer=\"uniform\",activation=\"tanh\")(x1)\n",
        "out=Dense(1,kernal_initializer=\"uniform\",activation=\"linear\")(x2)\n",
        "model_ann2=Model(inputs=int,outputs=out)\n",
        "model_ann2.summary()"
      ]
    },
    {
      "cell_type": "code",
      "execution_count": null,
      "metadata": {
        "id": "bn9UUNvcXu2Z"
      },
      "outputs": [],
      "source": []
    },
    {
      "cell_type": "markdown",
      "metadata": {
        "id": "TighXH6l8KwD"
      },
      "source": [
        "**Step 4: Compile and train the model**"
      ]
    },
    {
      "cell_type": "code",
      "execution_count": null,
      "metadata": {
        "colab": {
          "base_uri": "https://localhost:8080/"
        },
        "id": "VMy_B4aI8ReX",
        "outputId": "1667a709-68a9-49cb-d4f2-cb70c171cadf"
      },
      "outputs": [
        {
          "name": "stdout",
          "output_type": "stream",
          "text": [
            "Epoch 1/100\n",
            "20/20 [==============================] - 1s 11ms/step - loss: 0.4958 - mean_absolute_error: 0.5666 - val_loss: 0.4012 - val_mean_absolute_error: 0.4667\n",
            "Epoch 2/100\n",
            "20/20 [==============================] - 0s 4ms/step - loss: 0.3077 - mean_absolute_error: 0.4230 - val_loss: 0.3074 - val_mean_absolute_error: 0.4112\n",
            "Epoch 3/100\n",
            "20/20 [==============================] - 0s 5ms/step - loss: 0.2348 - mean_absolute_error: 0.3593 - val_loss: 0.2534 - val_mean_absolute_error: 0.3829\n",
            "Epoch 4/100\n",
            "20/20 [==============================] - 0s 4ms/step - loss: 0.1800 - mean_absolute_error: 0.3324 - val_loss: 0.2196 - val_mean_absolute_error: 0.3534\n",
            "Epoch 5/100\n",
            "20/20 [==============================] - 0s 5ms/step - loss: 0.1489 - mean_absolute_error: 0.2973 - val_loss: 0.2209 - val_mean_absolute_error: 0.3326\n",
            "Epoch 6/100\n",
            "20/20 [==============================] - 0s 4ms/step - loss: 0.1269 - mean_absolute_error: 0.2636 - val_loss: 0.1916 - val_mean_absolute_error: 0.3146\n",
            "Epoch 7/100\n",
            "20/20 [==============================] - 0s 4ms/step - loss: 0.1173 - mean_absolute_error: 0.2640 - val_loss: 0.1826 - val_mean_absolute_error: 0.2972\n",
            "Epoch 8/100\n",
            "20/20 [==============================] - 0s 5ms/step - loss: 0.1016 - mean_absolute_error: 0.2545 - val_loss: 0.1821 - val_mean_absolute_error: 0.3036\n",
            "Epoch 9/100\n",
            "20/20 [==============================] - 0s 4ms/step - loss: 0.0961 - mean_absolute_error: 0.2347 - val_loss: 0.1690 - val_mean_absolute_error: 0.3016\n",
            "Epoch 10/100\n",
            "20/20 [==============================] - 0s 4ms/step - loss: 0.0898 - mean_absolute_error: 0.2380 - val_loss: 0.1848 - val_mean_absolute_error: 0.3130\n",
            "Epoch 11/100\n",
            "20/20 [==============================] - 0s 4ms/step - loss: 0.0885 - mean_absolute_error: 0.2201 - val_loss: 0.1670 - val_mean_absolute_error: 0.3026\n",
            "Epoch 12/100\n",
            "20/20 [==============================] - 0s 5ms/step - loss: 0.0830 - mean_absolute_error: 0.2133 - val_loss: 0.1514 - val_mean_absolute_error: 0.2827\n",
            "Epoch 13/100\n",
            "20/20 [==============================] - 0s 5ms/step - loss: 0.0780 - mean_absolute_error: 0.2098 - val_loss: 0.1419 - val_mean_absolute_error: 0.2855\n",
            "Epoch 14/100\n",
            "20/20 [==============================] - 0s 5ms/step - loss: 0.0798 - mean_absolute_error: 0.2214 - val_loss: 0.1598 - val_mean_absolute_error: 0.3089\n",
            "Epoch 15/100\n",
            "20/20 [==============================] - 0s 4ms/step - loss: 0.0759 - mean_absolute_error: 0.2008 - val_loss: 0.1395 - val_mean_absolute_error: 0.2852\n",
            "Epoch 16/100\n",
            "20/20 [==============================] - 0s 4ms/step - loss: 0.0742 - mean_absolute_error: 0.2096 - val_loss: 0.1374 - val_mean_absolute_error: 0.2681\n",
            "Epoch 17/100\n",
            "20/20 [==============================] - 0s 5ms/step - loss: 0.0717 - mean_absolute_error: 0.2017 - val_loss: 0.1376 - val_mean_absolute_error: 0.2847\n",
            "Epoch 18/100\n",
            "20/20 [==============================] - 0s 5ms/step - loss: 0.0714 - mean_absolute_error: 0.2086 - val_loss: 0.1382 - val_mean_absolute_error: 0.2759\n",
            "Epoch 19/100\n",
            "20/20 [==============================] - 0s 4ms/step - loss: 0.0692 - mean_absolute_error: 0.1964 - val_loss: 0.1463 - val_mean_absolute_error: 0.2955\n",
            "Epoch 20/100\n",
            "20/20 [==============================] - 0s 4ms/step - loss: 0.0662 - mean_absolute_error: 0.1933 - val_loss: 0.1467 - val_mean_absolute_error: 0.3031\n",
            "Epoch 21/100\n",
            "20/20 [==============================] - 0s 4ms/step - loss: 0.0652 - mean_absolute_error: 0.1936 - val_loss: 0.1345 - val_mean_absolute_error: 0.2869\n",
            "Epoch 22/100\n",
            "20/20 [==============================] - 0s 4ms/step - loss: 0.0653 - mean_absolute_error: 0.1923 - val_loss: 0.1330 - val_mean_absolute_error: 0.2820\n",
            "Epoch 23/100\n",
            "20/20 [==============================] - 0s 4ms/step - loss: 0.0623 - mean_absolute_error: 0.1984 - val_loss: 0.1524 - val_mean_absolute_error: 0.3031\n",
            "Epoch 24/100\n",
            "20/20 [==============================] - 0s 5ms/step - loss: 0.0617 - mean_absolute_error: 0.1889 - val_loss: 0.1372 - val_mean_absolute_error: 0.2941\n",
            "Epoch 25/100\n",
            "20/20 [==============================] - 0s 5ms/step - loss: 0.0575 - mean_absolute_error: 0.1840 - val_loss: 0.1504 - val_mean_absolute_error: 0.2988\n",
            "Epoch 26/100\n",
            "20/20 [==============================] - 0s 4ms/step - loss: 0.0605 - mean_absolute_error: 0.1812 - val_loss: 0.1452 - val_mean_absolute_error: 0.2907\n",
            "Epoch 27/100\n",
            "20/20 [==============================] - 0s 5ms/step - loss: 0.0560 - mean_absolute_error: 0.1726 - val_loss: 0.1322 - val_mean_absolute_error: 0.3001\n",
            "Epoch 28/100\n",
            "20/20 [==============================] - 0s 4ms/step - loss: 0.0569 - mean_absolute_error: 0.1873 - val_loss: 0.1473 - val_mean_absolute_error: 0.2985\n",
            "Epoch 29/100\n",
            "20/20 [==============================] - 0s 5ms/step - loss: 0.0552 - mean_absolute_error: 0.1792 - val_loss: 0.1503 - val_mean_absolute_error: 0.3053\n",
            "Epoch 30/100\n",
            "20/20 [==============================] - 0s 5ms/step - loss: 0.0554 - mean_absolute_error: 0.1774 - val_loss: 0.1334 - val_mean_absolute_error: 0.2807\n",
            "Epoch 31/100\n",
            "20/20 [==============================] - 0s 5ms/step - loss: 0.0523 - mean_absolute_error: 0.1787 - val_loss: 0.1346 - val_mean_absolute_error: 0.2960\n",
            "Epoch 32/100\n",
            "20/20 [==============================] - 0s 4ms/step - loss: 0.0534 - mean_absolute_error: 0.1773 - val_loss: 0.1323 - val_mean_absolute_error: 0.2928\n",
            "Epoch 33/100\n",
            "20/20 [==============================] - 0s 4ms/step - loss: 0.0527 - mean_absolute_error: 0.1756 - val_loss: 0.1405 - val_mean_absolute_error: 0.2908\n",
            "Epoch 34/100\n",
            "20/20 [==============================] - 0s 5ms/step - loss: 0.0520 - mean_absolute_error: 0.1750 - val_loss: 0.1337 - val_mean_absolute_error: 0.2813\n",
            "Epoch 35/100\n",
            "20/20 [==============================] - 0s 5ms/step - loss: 0.0504 - mean_absolute_error: 0.1700 - val_loss: 0.1335 - val_mean_absolute_error: 0.2787\n",
            "Epoch 36/100\n",
            "20/20 [==============================] - 0s 4ms/step - loss: 0.0506 - mean_absolute_error: 0.1727 - val_loss: 0.1430 - val_mean_absolute_error: 0.2938\n",
            "Epoch 37/100\n",
            "20/20 [==============================] - 0s 5ms/step - loss: 0.0481 - mean_absolute_error: 0.1679 - val_loss: 0.1322 - val_mean_absolute_error: 0.2990\n",
            "Epoch 38/100\n",
            "20/20 [==============================] - 0s 4ms/step - loss: 0.0475 - mean_absolute_error: 0.1747 - val_loss: 0.1380 - val_mean_absolute_error: 0.2946\n",
            "Epoch 39/100\n",
            "20/20 [==============================] - 0s 4ms/step - loss: 0.0483 - mean_absolute_error: 0.1744 - val_loss: 0.1363 - val_mean_absolute_error: 0.2997\n",
            "Epoch 40/100\n",
            "20/20 [==============================] - 0s 4ms/step - loss: 0.0451 - mean_absolute_error: 0.1628 - val_loss: 0.1325 - val_mean_absolute_error: 0.2772\n",
            "Epoch 41/100\n",
            "20/20 [==============================] - 0s 5ms/step - loss: 0.0462 - mean_absolute_error: 0.1703 - val_loss: 0.1293 - val_mean_absolute_error: 0.2782\n",
            "Epoch 42/100\n",
            "20/20 [==============================] - 0s 5ms/step - loss: 0.0451 - mean_absolute_error: 0.1643 - val_loss: 0.1254 - val_mean_absolute_error: 0.2836\n",
            "Epoch 43/100\n",
            "20/20 [==============================] - 0s 4ms/step - loss: 0.0435 - mean_absolute_error: 0.1588 - val_loss: 0.1252 - val_mean_absolute_error: 0.2853\n",
            "Epoch 44/100\n",
            "20/20 [==============================] - 0s 5ms/step - loss: 0.0440 - mean_absolute_error: 0.1672 - val_loss: 0.1307 - val_mean_absolute_error: 0.2833\n",
            "Epoch 45/100\n",
            "20/20 [==============================] - 0s 5ms/step - loss: 0.0431 - mean_absolute_error: 0.1654 - val_loss: 0.1269 - val_mean_absolute_error: 0.2859\n",
            "Epoch 46/100\n",
            "20/20 [==============================] - 0s 5ms/step - loss: 0.0441 - mean_absolute_error: 0.1687 - val_loss: 0.1287 - val_mean_absolute_error: 0.2871\n",
            "Epoch 47/100\n",
            "20/20 [==============================] - 0s 6ms/step - loss: 0.0418 - mean_absolute_error: 0.1646 - val_loss: 0.1282 - val_mean_absolute_error: 0.2840\n",
            "Epoch 48/100\n",
            "20/20 [==============================] - 0s 4ms/step - loss: 0.0413 - mean_absolute_error: 0.1600 - val_loss: 0.1290 - val_mean_absolute_error: 0.2855\n",
            "Epoch 49/100\n",
            "20/20 [==============================] - 0s 4ms/step - loss: 0.0413 - mean_absolute_error: 0.1619 - val_loss: 0.1211 - val_mean_absolute_error: 0.2750\n",
            "Epoch 50/100\n",
            "20/20 [==============================] - 0s 4ms/step - loss: 0.0415 - mean_absolute_error: 0.1626 - val_loss: 0.1205 - val_mean_absolute_error: 0.2686\n",
            "Epoch 51/100\n",
            "20/20 [==============================] - 0s 5ms/step - loss: 0.0407 - mean_absolute_error: 0.1594 - val_loss: 0.1314 - val_mean_absolute_error: 0.2848\n",
            "Epoch 52/100\n",
            "20/20 [==============================] - 0s 4ms/step - loss: 0.0394 - mean_absolute_error: 0.1614 - val_loss: 0.1261 - val_mean_absolute_error: 0.2758\n",
            "Epoch 53/100\n",
            "20/20 [==============================] - 0s 7ms/step - loss: 0.0382 - mean_absolute_error: 0.1512 - val_loss: 0.1278 - val_mean_absolute_error: 0.2872\n",
            "Epoch 54/100\n",
            "20/20 [==============================] - 0s 4ms/step - loss: 0.0373 - mean_absolute_error: 0.1527 - val_loss: 0.1366 - val_mean_absolute_error: 0.3020\n",
            "Epoch 55/100\n",
            "20/20 [==============================] - 0s 5ms/step - loss: 0.0362 - mean_absolute_error: 0.1529 - val_loss: 0.1245 - val_mean_absolute_error: 0.2732\n",
            "Epoch 56/100\n",
            "20/20 [==============================] - 0s 4ms/step - loss: 0.0375 - mean_absolute_error: 0.1542 - val_loss: 0.1358 - val_mean_absolute_error: 0.2974\n",
            "Epoch 57/100\n",
            "20/20 [==============================] - 0s 4ms/step - loss: 0.0359 - mean_absolute_error: 0.1537 - val_loss: 0.1327 - val_mean_absolute_error: 0.2997\n",
            "Epoch 58/100\n",
            "20/20 [==============================] - 0s 5ms/step - loss: 0.0368 - mean_absolute_error: 0.1494 - val_loss: 0.1292 - val_mean_absolute_error: 0.2924\n",
            "Epoch 59/100\n",
            "20/20 [==============================] - 0s 5ms/step - loss: 0.0348 - mean_absolute_error: 0.1461 - val_loss: 0.1263 - val_mean_absolute_error: 0.2827\n",
            "Epoch 60/100\n",
            "20/20 [==============================] - 0s 5ms/step - loss: 0.0351 - mean_absolute_error: 0.1467 - val_loss: 0.1288 - val_mean_absolute_error: 0.2871\n",
            "Epoch 61/100\n",
            "20/20 [==============================] - 0s 5ms/step - loss: 0.0346 - mean_absolute_error: 0.1462 - val_loss: 0.1305 - val_mean_absolute_error: 0.2864\n",
            "Epoch 62/100\n",
            "20/20 [==============================] - 0s 4ms/step - loss: 0.0349 - mean_absolute_error: 0.1514 - val_loss: 0.1360 - val_mean_absolute_error: 0.3044\n",
            "Epoch 63/100\n",
            "20/20 [==============================] - 0s 4ms/step - loss: 0.0330 - mean_absolute_error: 0.1419 - val_loss: 0.1390 - val_mean_absolute_error: 0.3044\n",
            "Epoch 64/100\n",
            "20/20 [==============================] - 0s 4ms/step - loss: 0.0339 - mean_absolute_error: 0.1422 - val_loss: 0.1307 - val_mean_absolute_error: 0.2897\n",
            "Epoch 65/100\n",
            "20/20 [==============================] - 0s 6ms/step - loss: 0.0332 - mean_absolute_error: 0.1464 - val_loss: 0.1368 - val_mean_absolute_error: 0.2989\n",
            "Epoch 66/100\n",
            "20/20 [==============================] - 0s 4ms/step - loss: 0.0319 - mean_absolute_error: 0.1417 - val_loss: 0.1358 - val_mean_absolute_error: 0.3034\n",
            "Epoch 67/100\n",
            "20/20 [==============================] - 0s 5ms/step - loss: 0.0330 - mean_absolute_error: 0.1429 - val_loss: 0.1282 - val_mean_absolute_error: 0.2863\n",
            "Epoch 68/100\n",
            "20/20 [==============================] - 0s 5ms/step - loss: 0.0322 - mean_absolute_error: 0.1430 - val_loss: 0.1316 - val_mean_absolute_error: 0.2929\n",
            "Epoch 69/100\n",
            "20/20 [==============================] - 0s 4ms/step - loss: 0.0319 - mean_absolute_error: 0.1412 - val_loss: 0.1321 - val_mean_absolute_error: 0.2895\n",
            "Epoch 70/100\n",
            "20/20 [==============================] - 0s 5ms/step - loss: 0.0328 - mean_absolute_error: 0.1466 - val_loss: 0.1293 - val_mean_absolute_error: 0.2841\n",
            "Epoch 71/100\n",
            "20/20 [==============================] - 0s 4ms/step - loss: 0.0313 - mean_absolute_error: 0.1458 - val_loss: 0.1387 - val_mean_absolute_error: 0.3010\n",
            "Epoch 72/100\n",
            "20/20 [==============================] - 0s 4ms/step - loss: 0.0320 - mean_absolute_error: 0.1429 - val_loss: 0.1297 - val_mean_absolute_error: 0.2849\n",
            "Epoch 73/100\n",
            "20/20 [==============================] - 0s 4ms/step - loss: 0.0300 - mean_absolute_error: 0.1365 - val_loss: 0.1382 - val_mean_absolute_error: 0.2995\n",
            "Epoch 74/100\n",
            "20/20 [==============================] - 0s 5ms/step - loss: 0.0303 - mean_absolute_error: 0.1378 - val_loss: 0.1368 - val_mean_absolute_error: 0.2980\n",
            "Epoch 75/100\n",
            "20/20 [==============================] - 0s 4ms/step - loss: 0.0297 - mean_absolute_error: 0.1363 - val_loss: 0.1256 - val_mean_absolute_error: 0.2769\n",
            "Epoch 76/100\n",
            "20/20 [==============================] - 0s 5ms/step - loss: 0.0305 - mean_absolute_error: 0.1358 - val_loss: 0.1323 - val_mean_absolute_error: 0.2865\n",
            "Epoch 77/100\n",
            "20/20 [==============================] - 0s 4ms/step - loss: 0.0283 - mean_absolute_error: 0.1381 - val_loss: 0.1330 - val_mean_absolute_error: 0.2879\n",
            "Epoch 78/100\n",
            "20/20 [==============================] - 0s 5ms/step - loss: 0.0289 - mean_absolute_error: 0.1323 - val_loss: 0.1344 - val_mean_absolute_error: 0.2980\n",
            "Epoch 79/100\n",
            "20/20 [==============================] - 0s 4ms/step - loss: 0.0294 - mean_absolute_error: 0.1351 - val_loss: 0.1315 - val_mean_absolute_error: 0.2898\n",
            "Epoch 80/100\n",
            "20/20 [==============================] - 0s 5ms/step - loss: 0.0282 - mean_absolute_error: 0.1374 - val_loss: 0.1473 - val_mean_absolute_error: 0.3175\n",
            "Epoch 81/100\n",
            "20/20 [==============================] - 0s 5ms/step - loss: 0.0263 - mean_absolute_error: 0.1246 - val_loss: 0.1490 - val_mean_absolute_error: 0.3163\n",
            "Epoch 82/100\n",
            "20/20 [==============================] - 0s 7ms/step - loss: 0.0296 - mean_absolute_error: 0.1360 - val_loss: 0.1300 - val_mean_absolute_error: 0.2856\n",
            "Epoch 83/100\n",
            "20/20 [==============================] - 0s 6ms/step - loss: 0.0268 - mean_absolute_error: 0.1346 - val_loss: 0.1464 - val_mean_absolute_error: 0.3110\n",
            "Epoch 84/100\n",
            "20/20 [==============================] - 0s 8ms/step - loss: 0.0290 - mean_absolute_error: 0.1349 - val_loss: 0.1423 - val_mean_absolute_error: 0.3066\n",
            "Epoch 85/100\n",
            "20/20 [==============================] - 0s 6ms/step - loss: 0.0292 - mean_absolute_error: 0.1407 - val_loss: 0.1410 - val_mean_absolute_error: 0.3062\n",
            "Epoch 86/100\n",
            "20/20 [==============================] - 0s 7ms/step - loss: 0.0269 - mean_absolute_error: 0.1306 - val_loss: 0.1406 - val_mean_absolute_error: 0.3054\n",
            "Epoch 87/100\n",
            "20/20 [==============================] - 0s 7ms/step - loss: 0.0280 - mean_absolute_error: 0.1301 - val_loss: 0.1349 - val_mean_absolute_error: 0.2959\n",
            "Epoch 88/100\n",
            "20/20 [==============================] - 0s 7ms/step - loss: 0.0256 - mean_absolute_error: 0.1262 - val_loss: 0.1405 - val_mean_absolute_error: 0.3023\n",
            "Epoch 89/100\n",
            "20/20 [==============================] - 0s 6ms/step - loss: 0.0285 - mean_absolute_error: 0.1353 - val_loss: 0.1398 - val_mean_absolute_error: 0.3050\n",
            "Epoch 90/100\n",
            "20/20 [==============================] - 0s 7ms/step - loss: 0.0260 - mean_absolute_error: 0.1280 - val_loss: 0.1446 - val_mean_absolute_error: 0.3118\n",
            "Epoch 91/100\n",
            "20/20 [==============================] - 0s 7ms/step - loss: 0.0267 - mean_absolute_error: 0.1306 - val_loss: 0.1379 - val_mean_absolute_error: 0.2985\n",
            "Epoch 92/100\n",
            "20/20 [==============================] - 0s 7ms/step - loss: 0.0261 - mean_absolute_error: 0.1322 - val_loss: 0.1512 - val_mean_absolute_error: 0.3237\n",
            "Epoch 93/100\n",
            "20/20 [==============================] - 0s 7ms/step - loss: 0.0269 - mean_absolute_error: 0.1303 - val_loss: 0.1359 - val_mean_absolute_error: 0.2950\n",
            "Epoch 94/100\n",
            "20/20 [==============================] - 0s 6ms/step - loss: 0.0260 - mean_absolute_error: 0.1252 - val_loss: 0.1367 - val_mean_absolute_error: 0.2953\n",
            "Epoch 95/100\n",
            "20/20 [==============================] - 0s 6ms/step - loss: 0.0253 - mean_absolute_error: 0.1241 - val_loss: 0.1434 - val_mean_absolute_error: 0.3128\n",
            "Epoch 96/100\n",
            "20/20 [==============================] - 0s 6ms/step - loss: 0.0255 - mean_absolute_error: 0.1236 - val_loss: 0.1329 - val_mean_absolute_error: 0.2876\n",
            "Epoch 97/100\n",
            "20/20 [==============================] - 0s 7ms/step - loss: 0.0263 - mean_absolute_error: 0.1311 - val_loss: 0.1388 - val_mean_absolute_error: 0.3007\n",
            "Epoch 98/100\n",
            "20/20 [==============================] - 0s 6ms/step - loss: 0.0262 - mean_absolute_error: 0.1301 - val_loss: 0.1446 - val_mean_absolute_error: 0.3120\n",
            "Epoch 99/100\n",
            "20/20 [==============================] - 0s 6ms/step - loss: 0.0257 - mean_absolute_error: 0.1255 - val_loss: 0.1432 - val_mean_absolute_error: 0.3060\n",
            "Epoch 100/100\n",
            "20/20 [==============================] - 0s 7ms/step - loss: 0.0248 - mean_absolute_error: 0.1243 - val_loss: 0.1447 - val_mean_absolute_error: 0.3141\n"
          ]
        }
      ],
      "source": [
        "# Compile the model\n",
        "model_ann.compile(loss=\"mean_squared_error\",optimizer=\"SGD\",metrics=[\"mean_absolute_error\"])\n",
        "\n",
        "# Fitting the model\n",
        "history_ann=model_ann.fit(x_train,y_train,epochs=100,batch_size=2,validation_data=(x_test,y_test),verbose=1)\n"
      ]
    },
    {
      "cell_type": "markdown",
      "metadata": {
        "id": "gpN5Jh-O-0A-"
      },
      "source": [
        "**Step 5: Visualization of training accuracy and loss of the model**"
      ]
    },
    {
      "cell_type": "code",
      "execution_count": null,
      "metadata": {
        "colab": {
          "base_uri": "https://localhost:8080/",
          "height": 962
        },
        "id": "KEGxqQcu-8kY",
        "outputId": "ded269a7-0f43-4e21-ac6f-afd11b2190a6"
      },
      "outputs": [
        {
          "name": "stdout",
          "output_type": "stream",
          "text": [
            "dict_keys(['loss', 'mean_absolute_error', 'val_loss', 'val_mean_absolute_error'])\n"
          ]
        },
        {
          "data": {
            "text/plain": [
              "Text(0, 0.5, 'loss')"
            ]
          },
          "execution_count": 39,
          "metadata": {},
          "output_type": "execute_result"
        },
        {
          "data": {
            "image/png": "[encoded data removed]",
            "text/plain": [
              "<Figure size 640x480 with 1 Axes>"
            ]
          },
          "metadata": {},
          "output_type": "display_data"
        },
        {
          "data": {
            "image/png": "[encoded data removed]",
            "text/plain": [
              "<Figure size 640x480 with 1 Axes>"
            ]
          },
          "metadata": {},
          "output_type": "display_data"
        }
      ],
      "source": [
        "print(history_ann.history.keys())\n",
        "\n",
        "import matplotlib.pyplot as plt\n",
        "f,ax=plt.subplots()\n",
        "ax.plot(history_ann.history[\"mean_absolute_error\"])\n",
        "ax.plot(history_ann.history[\"val_mean_absolute_error\"],\"--\")\n",
        "ax.legend([\"Train MSE\",\"Validation MSE\"])\n",
        "ax.set_title(\"Training/Validation MSE per Epoch\")\n",
        "ax.set_xlabel(\"Epoch\")\n",
        "ax.set_ylabel(\"MSE\")\n",
        "\n",
        "f,ax=plt.subplots()\n",
        "ax.plot(history_ann.history[\"loss\"])\n",
        "ax.plot(history_ann.history[\"val_loss\"],\"--\")\n",
        "ax.legend([\"Train loss\",\"Validation loss\"])\n",
        "ax.set_title(\"Training/Validation loss per Epoch\")\n",
        "ax.set_xlabel(\"Epoch\")\n",
        "ax.set_ylabel(\"loss\")\n",
        "\n"
      ]
    },
    {
      "cell_type": "markdown",
      "metadata": {
        "id": "DuOk6eLJiT64"
      },
      "source": [
        "**Step 6: Model evaluation**"
      ]
    },
    {
      "cell_type": "code",
      "execution_count": null,
      "metadata": {
        "colab": {
          "base_uri": "https://localhost:8080/"
        },
        "id": "RBlmCztxiYPW",
        "outputId": "1793ff4e-febf-4b9b-e640-3cb933a09428"
      },
      "outputs": [
        {
          "name": "stdout",
          "output_type": "stream",
          "text": [
            "1/1 [==============================] - 0s 104ms/step - loss: 0.1447 - mean_absolute_error: 0.3141\n"
          ]
        }
      ],
      "source": [
        "score=model_ann.evaluate(x_test,y_test,verbose=1)\n"
      ]
    },
    {
      "cell_type": "markdown",
      "metadata": {
        "id": "7hh8_h-rjssP"
      },
      "source": [
        "**Step 6(b): Model Prediction**"
      ]
    },
    {
      "cell_type": "code",
      "execution_count": null,
      "metadata": {
        "colab": {
          "base_uri": "https://localhost:8080/"
        },
        "id": "TkzTsk9ijyVG",
        "outputId": "3361a74e-28ca-45cb-88c0-4e7aa16824aa"
      },
      "outputs": [
        {
          "name": "stdout",
          "output_type": "stream",
          "text": [
            "1/1 [==============================] - 0s 47ms/step\n",
            "[[ 0.26578933]\n",
            " [ 0.34357864]\n",
            " [-0.1916414 ]\n",
            " [-0.68658113]\n",
            " [ 1.9394335 ]\n",
            " [ 0.6055674 ]\n",
            " [-1.7060837 ]\n",
            " [-0.4106131 ]\n",
            " [-1.43972   ]\n",
            " [-1.7748667 ]]\n"
          ]
        }
      ],
      "source": [
        "y_pred=model_ann.predict(x_test)\n",
        "print(y_pred)"
      ]
    },
    {
      "cell_type": "code",
      "execution_count": null,
      "metadata": {
        "colab": {
          "base_uri": "https://localhost:8080/"
        },
        "id": "RFjpnrz8ks7U",
        "outputId": "5470332a-f290-4db0-c996-2df1524a0eef"
      },
      "outputs": [
        {
          "name": "stdout",
          "output_type": "stream",
          "text": [
            "[[134307.35]\n",
            " [141585.52]\n",
            " [101004.64]\n",
            " [ 96712.8 ]\n",
            " [191792.06]\n",
            " [146121.95]\n",
            " [ 14681.4 ]\n",
            " [ 97427.84]\n",
            " [ 69758.98]\n",
            " [ 64926.08]]\n",
            "[[122617.92 ]\n",
            " [125721.8  ]\n",
            " [104365.94 ]\n",
            " [ 84617.31 ]\n",
            " [189398.12 ]\n",
            " [136175.44 ]\n",
            " [ 43938.055]\n",
            " [ 95628.734]\n",
            " [ 54566.254]\n",
            " [ 41193.54 ]]\n"
          ]
        }
      ],
      "source": [
        "y_test_rescalled=sc.inverse_transform(y_test)\n",
        "y_pred_rescalled=sc.inverse_transform(y_pred)\n",
        "print(y_test_rescalled)\n",
        "print(y_pred_rescalled)"
      ]
    },
    {
      "cell_type": "markdown",
      "metadata": {
        "id": "pa3NKPPal1qX"
      },
      "source": [
        "**Comparison between predicted profit and actual profit**"
      ]
    },
    {
      "cell_type": "code",
      "execution_count": null,
      "metadata": {
        "colab": {
          "base_uri": "https://localhost:8080/"
        },
        "id": "CUnb-s9ml9Do",
        "outputId": "fb0be6e4-e139-4bde-ef2a-b2824b3b23d0"
      },
      "outputs": [
        {
          "name": "stdout",
          "output_type": "stream",
          "text": [
            "   Original profit  Predicted profit\n",
            "0        134307.35     122617.921875\n",
            "1        141585.52     125721.796875\n",
            "2        101004.64     104365.937500\n",
            "3         96712.80      84617.312500\n",
            "4        191792.06     189398.125000\n",
            "5        146121.95     136175.437500\n",
            "6         14681.40      43938.054688\n",
            "7         97427.84      95628.734375\n",
            "8         69758.98      54566.253906\n",
            "9         64926.08      41193.539062\n"
          ]
        }
      ],
      "source": [
        "comp=pd.DataFrame(np.c_[y_test_rescalled,y_pred_rescalled],columns=[\"Original profit\",\"Predicted profit\"])\n",
        "print(comp)"
      ]
    },
    {
      "cell_type": "markdown",
      "metadata": {
        "id": "H33wXRbVmtgf"
      },
      "source": [
        "**Performance evaluation**"
      ]
    },
    {
      "cell_type": "code",
      "execution_count": null,
      "metadata": {
        "colab": {
          "base_uri": "https://localhost:8080/"
        },
        "id": "I3cCS2L9mwSt",
        "outputId": "763e213e-87d6-454a-dc06-955ec78b85f2"
      },
      "outputs": [
        {
          "name": "stdout",
          "output_type": "stream",
          "text": [
            "MAE: 12533.141109375\n",
            "MSE: 15178.289316594912\n"
          ]
        }
      ],
      "source": [
        "from sklearn.metrics import mean_squared_error,mean_absolute_error\n",
        "from math import sqrt\n",
        "print(\"MAE:\",mean_absolute_error(y_test_rescalled,y_pred_rescalled))\n",
        "print(\"MSE:\",np.sqrt(mean_squared_error(y_test_rescalled,y_pred_rescalled)))"
      ]
    },
    {
      "cell_type": "markdown",
      "metadata": {
        "id": "Bf-JYG7UnsvH"
      },
      "source": [
        "**Method 2: Implementation for Scikit Library**"
      ]
    },
    {
      "cell_type": "code",
      "execution_count": null,
      "metadata": {
        "colab": {
          "base_uri": "https://localhost:8080/",
          "height": 181
        },
        "id": "Qilv95xHnzUB",
        "outputId": "a6c8ea12-b761-4a40-e19a-2586de2596fa"
      },
      "outputs": [
        {
          "name": "stderr",
          "output_type": "stream",
          "text": [
            "/usr/local/lib/python3.10/dist-packages/sklearn/neural_network/_multilayer_perceptron.py:1623: DataConversionWarning: A column-vector y was passed when a 1d array was expected. Please change the shape of y to (n_samples, ), for example using ravel().\n",
            "  y = column_or_1d(y, warn=True)\n",
            "/usr/local/lib/python3.10/dist-packages/sklearn/neural_network/_multilayer_perceptron.py:686: ConvergenceWarning: Stochastic Optimizer: Maximum iterations (100) reached and the optimization hasn't converged yet.\n",
            "  warnings.warn(\n"
          ]
        },
        {
          "data": {
            "text/html": [
              "<style>#sk-container-id-1 {color: black;background-color: white;}#sk-container-id-1 pre{padding: 0;}#sk-container-id-1 div.sk-toggleable {background-color: white;}#sk-container-id-1 label.sk-toggleable__label {cursor: pointer;display: block;width: 100%;margin-bottom: 0;padding: 0.3em;box-sizing: border-box;text-align: center;}#sk-container-id-1 label.sk-toggleable__label-arrow:before {content: \"▸\";float: left;margin-right: 0.25em;color: #696969;}#sk-container-id-1 label.sk-toggleable__label-arrow:hover:before {color: black;}#sk-container-id-1 div.sk-estimator:hover label.sk-toggleable__label-arrow:before {color: black;}#sk-container-id-1 div.sk-toggleable__content {max-height: 0;max-width: 0;overflow: hidden;text-align: left;background-color: #f0f8ff;}#sk-container-id-1 div.sk-toggleable__content pre {margin: 0.2em;color: black;border-radius: 0.25em;background-color: #f0f8ff;}#sk-container-id-1 input.sk-toggleable__control:checked~div.sk-toggleable__content {max-height: 200px;max-width: 100%;overflow: auto;}#sk-container-id-1 input.sk-toggleable__control:checked~label.sk-toggleable__label-arrow:before {content: \"▾\";}#sk-container-id-1 div.sk-estimator input.sk-toggleable__control:checked~label.sk-toggleable__label {background-color: #d4ebff;}#sk-container-id-1 div.sk-label input.sk-toggleable__control:checked~label.sk-toggleable__label {background-color: #d4ebff;}#sk-container-id-1 input.sk-hidden--visually {border: 0;clip: rect(1px 1px 1px 1px);clip: rect(1px, 1px, 1px, 1px);height: 1px;margin: -1px;overflow: hidden;padding: 0;position: absolute;width: 1px;}#sk-container-id-1 div.sk-estimator {font-family: monospace;background-color: #f0f8ff;border: 1px dotted black;border-radius: 0.25em;box-sizing: border-box;margin-bottom: 0.5em;}#sk-container-id-1 div.sk-estimator:hover {background-color: #d4ebff;}#sk-container-id-1 div.sk-parallel-item::after {content: \"\";width: 100%;border-bottom: 1px solid gray;flex-grow: 1;}#sk-container-id-1 div.sk-label:hover label.sk-toggleable__label {background-color: #d4ebff;}#sk-container-id-1 div.sk-serial::before {content: \"\";position: absolute;border-left: 1px solid gray;box-sizing: border-box;top: 0;bottom: 0;left: 50%;z-index: 0;}#sk-container-id-1 div.sk-serial {display: flex;flex-direction: column;align-items: center;background-color: white;padding-right: 0.2em;padding-left: 0.2em;position: relative;}#sk-container-id-1 div.sk-item {position: relative;z-index: 1;}#sk-container-id-1 div.sk-parallel {display: flex;align-items: stretch;justify-content: center;background-color: white;position: relative;}#sk-container-id-1 div.sk-item::before, #sk-container-id-1 div.sk-parallel-item::before {content: \"\";position: absolute;border-left: 1px solid gray;box-sizing: border-box;top: 0;bottom: 0;left: 50%;z-index: -1;}#sk-container-id-1 div.sk-parallel-item {display: flex;flex-direction: column;z-index: 1;position: relative;background-color: white;}#sk-container-id-1 div.sk-parallel-item:first-child::after {align-self: flex-end;width: 50%;}#sk-container-id-1 div.sk-parallel-item:last-child::after {align-self: flex-start;width: 50%;}#sk-container-id-1 div.sk-parallel-item:only-child::after {width: 0;}#sk-container-id-1 div.sk-dashed-wrapped {border: 1px dashed gray;margin: 0 0.4em 0.5em 0.4em;box-sizing: border-box;padding-bottom: 0.4em;background-color: white;}#sk-container-id-1 div.sk-label label {font-family: monospace;font-weight: bold;display: inline-block;line-height: 1.2em;}#sk-container-id-1 div.sk-label-container {text-align: center;}#sk-container-id-1 div.sk-container {/* jupyter's `normalize.less` sets `[hidden] { display: none; }` but bootstrap.min.css set `[hidden] { display: none !important; }` so we also need the `!important` here to be able to override the default hidden behavior on the sphinx rendered scikit-learn.org. See: https://github.com/scikit-learn/scikit-learn/issues/21755 */display: inline-block !important;position: relative;}#sk-container-id-1 div.sk-text-repr-fallback {display: none;}</style><div id=\"sk-container-id-1\" class=\"sk-top-container\"><div class=\"sk-text-repr-fallback\"><pre>MLPRegressor(activation=&#x27;tanh&#x27;, hidden_layer_sizes=(16, 32), max_iter=100,\n",
              "             solver=&#x27;sgd&#x27;)</pre><b>In a Jupyter environment, please rerun this cell to show the HTML representation or trust the notebook. <br />On GitHub, the HTML representation is unable to render, please try loading this page with nbviewer.org.</b></div><div class=\"sk-container\" hidden><div class=\"sk-item\"><div class=\"sk-estimator sk-toggleable\"><input class=\"sk-toggleable__control sk-hidden--visually\" id=\"sk-estimator-id-1\" type=\"checkbox\" checked><label for=\"sk-estimator-id-1\" class=\"sk-toggleable__label sk-toggleable__label-arrow\">MLPRegressor</label><div class=\"sk-toggleable__content\"><pre>MLPRegressor(activation=&#x27;tanh&#x27;, hidden_layer_sizes=(16, 32), max_iter=100,\n",
              "             solver=&#x27;sgd&#x27;)</pre></div></div></div></div></div>"
            ],
            "text/plain": [
              "MLPRegressor(activation='tanh', hidden_layer_sizes=(16, 32), max_iter=100,\n",
              "             solver='sgd')"
            ]
          },
          "execution_count": 50,
          "metadata": {},
          "output_type": "execute_result"
        }
      ],
      "source": [
        "from sklearn.neural_network import MLPRegressor\n",
        "mlpregressor=MLPRegressor(hidden_layer_sizes=(16,32),max_iter=100,activation=\"tanh\",solver=\"sgd\")\n",
        "mlpregressor.fit(x_train,y_train)"
      ]
    },
    {
      "cell_type": "code",
      "execution_count": null,
      "metadata": {
        "colab": {
          "base_uri": "https://localhost:8080/",
          "height": 473
        },
        "id": "BlNEGckZowG6",
        "outputId": "ed407222-dad5-4fec-be32-84a52d3fe100"
      },
      "outputs": [
        {
          "data": {
            "image/png": "[encoded data removed]",
            "text/plain": [
              "<Figure size 640x480 with 1 Axes>"
            ]
          },
          "metadata": {},
          "output_type": "display_data"
        }
      ],
      "source": [
        "plt.plot(mlpregressor.loss_curve_)\n",
        "plt.title(\"loss curve\",fontsize=14)\n",
        "plt.xlabel(\"Iterations\")\n",
        "plt.ylabel(\"Cost\")\n",
        "plt.show()"
      ]
    },
    {
      "cell_type": "code",
      "execution_count": null,
      "metadata": {
        "colab": {
          "base_uri": "https://localhost:8080/"
        },
        "id": "sNAVhalhpMUe",
        "outputId": "1f3e0c26-5b90-4a47-804b-26b8c344b506"
      },
      "outputs": [
        {
          "name": "stdout",
          "output_type": "stream",
          "text": [
            "[ 0.64095158  0.61074605 -0.25903211 -0.23915816  1.44823911  0.52230231\n",
            " -1.79090662 -0.73989172 -1.6702257  -1.91750819]\n"
          ]
        }
      ],
      "source": [
        "y_pred_sk=mlpregressor.predict(x_test)\n",
        "print(y_pred_sk)"
      ]
    },
    {
      "cell_type": "code",
      "execution_count": null,
      "metadata": {
        "colab": {
          "base_uri": "https://localhost:8080/"
        },
        "id": "-S3zBRXNpeMt",
        "outputId": "c0186783-bfac-4b99-f19c-a5bd1982ce94"
      },
      "outputs": [
        {
          "name": "stdout",
          "output_type": "stream",
          "text": [
            "(10, 1)\n",
            "[[137587.30111252]\n",
            " [136382.06787995]\n",
            " [101676.97747047]\n",
            " [102469.9695529 ]\n",
            " [169798.94799448]\n",
            " [132853.06676731]\n",
            " [ 40553.52570604]\n",
            " [ 82490.15837902]\n",
            " [ 45368.82528492]\n",
            " [ 35501.98610564]]\n"
          ]
        }
      ],
      "source": [
        "y_pred_sk=np.array(y_pred_sk)\n",
        "y_pred_sk=y_pred_sk.reshape(-1,1)\n",
        "print(y_pred_sk.shape)\n",
        "y_pred_sk_rescalled=sc.inverse_transform(y_pred_sk)\n",
        "print(y_pred_sk_rescalled)"
      ]
    },
    {
      "cell_type": "code",
      "execution_count": null,
      "metadata": {
        "colab": {
          "base_uri": "https://localhost:8080/"
        },
        "id": "QwKn58gVq6Rq",
        "outputId": "2485999f-8800-4431-f027-fefef4277612"
      },
      "outputs": [
        {
          "name": "stdout",
          "output_type": "stream",
          "text": [
            "   Original Profit  Predicted Profit\n",
            "0        134307.35     137587.301113\n",
            "1        141585.52     136382.067880\n",
            "2        101004.64     101676.977470\n",
            "3         96712.80     102469.969553\n",
            "4        191792.06     169798.947994\n",
            "5        146121.95     132853.066767\n",
            "6         14681.40      40553.525706\n",
            "7         97427.84      82490.158379\n",
            "8         69758.98      45368.825285\n",
            "9         64926.08      35501.986106\n"
          ]
        }
      ],
      "source": [
        "comp=pd.DataFrame(np.c_[y_test_rescalled,y_pred_sk_rescalled],columns=[\"Original Profit\",\"Predicted Profit\"])\n",
        "print(comp)"
      ]
    },
    {
      "cell_type": "code",
      "execution_count": null,
      "metadata": {
        "colab": {
          "base_uri": "https://localhost:8080/"
        },
        "id": "EFNVpm8ZroWR",
        "outputId": "ae6a297f-9a05-40a2-c371-e88403c67f76"
      },
      "outputs": [
        {
          "name": "stdout",
          "output_type": "stream",
          "text": [
            "MAE: 14479.896143060614\n",
            "MSE: 17562.316018737667\n"
          ]
        }
      ],
      "source": [
        "from sklearn.metrics import mean_squared_error,mean_absolute_error\n",
        "from math import sqrt\n",
        "print(\"MAE:\",mean_absolute_error(y_test_rescalled,y_pred_sk_rescalled))\n",
        "print(\"MSE:\",np.sqrt(mean_squared_error(y_test_rescalled,y_pred_sk_rescalled)))"
      ]
    }
  ],
  "metadata": {
    "accelerator": "GPU",
    "colab": {
      "provenance": [],
      "include_colab_link": true
    },
    "kernelspec": {
      "display_name": "Python 3",
      "name": "python3"
    },
    "language_info": {
      "name": "python"
    }
  },
  "nbformat": 4,
  "nbformat_minor": 0
}